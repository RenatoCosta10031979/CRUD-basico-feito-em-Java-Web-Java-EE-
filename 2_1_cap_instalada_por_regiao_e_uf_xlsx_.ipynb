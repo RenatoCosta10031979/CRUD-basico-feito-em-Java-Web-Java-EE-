{
  "nbformat": 4,
  "nbformat_minor": 0,
  "metadata": {
    "colab": {
      "provenance": [],
      "collapsed_sections": [
        "ELp0xHUwTO0T",
        "L7abbfpEBjvV",
        "V1UNCIESAaZN",
        "VbLM1jZ51glR",
        "FG2L2jSi2Alp",
        "j6krOtKKvkR-",
        "S03P8PdZwETm",
        "vWZSnA7a323p",
        "61BpULdxB4eG",
        "XFqxd5w9BVyu",
        "deA1beF7EVJa",
        "_IRmFDtibEJ5",
        "3yU0J9uX59wv",
        "L80z5OfJ6E8Y",
        "mGQ05qUq6O-Q"
      ],
      "include_colab_link": true
    },
    "kernelspec": {
      "name": "python3",
      "display_name": "Python 3"
    },
    "language_info": {
      "name": "python"
    }
  },
  "cells": [
    {
      "cell_type": "markdown",
      "metadata": {
        "id": "view-in-github",
        "colab_type": "text"
      },
      "source": [
        "<a href=\"https://colab.research.google.com/github/RenatoCosta10031979/CRUD-basico-feito-em-Java-Web-Java-EE-/blob/main/2_1_cap_instalada_por_regiao_e_uf_xlsx_.ipynb\" target=\"_parent\"><img src=\"https://colab.research.google.com/assets/colab-badge.svg\" alt=\"Open In Colab\"/></a>"
      ]
    },
    {
      "cell_type": "markdown",
      "source": [
        "## **Projeto Final**\n",
        "Escola: SoulCode Academy\n",
        "\n",
        "Curso: Bootcamp Analista de Dados - Martech - AD2\n",
        "\n",
        "**Alunos: Nomes, Nomes**\n",
        "\n",
        "Professores: Douglas Ribeiro e Franciane Rodrigues"
      ],
      "metadata": {
        "id": "8AvV2uVhNLpj"
      }
    },
    {
      "cell_type": "markdown",
      "source": [
        "#**Pergunta de negócio**: Análise exploratória de dados com a base de dados do ___ e indique possíveis oportunidades e/ou ameaças para o empreendimento.\n",
        "\n",
        "---\n",
        "\n"
      ],
      "metadata": {
        "id": "BYEQz24KPKYi"
      }
    },
    {
      "cell_type": "markdown",
      "source": [
        "# Base de Dados Informações gerais\n",
        "TEXTO EXPLICATIVO Lorem Ipsum is simply dummy text of the printing and typesetting industry. Lorem Ipsum has been the industry's standard dummy text ever since the 1500s, when an unknown printer took a galley of type and scrambled it to make a type specimen book. It has survived not only five centuries, but also the leap into electronic typesetting, remaining essentially unchanged. It was popularised in the 1960s with the release of Letraset sheets containing Lorem Ipsum passages, and more recently with desktop publishing software like Aldus PageMaker including versions of Lorem Ipsum.\n",
        "\n",
        "Fonte: LINK"
      ],
      "metadata": {
        "id": "ELp0xHUwTO0T"
      }
    },
    {
      "cell_type": "markdown",
      "source": [
        "## **Dicionário de dados**"
      ],
      "metadata": {
        "id": "-KiI5to9Uj6i"
      }
    },
    {
      "cell_type": "markdown",
      "source": [
        "*\n",
        "*\n",
        "\n",
        "> fonte:\n",
        "*   links"
      ],
      "metadata": {
        "id": "SYdPRuwh2PEe"
      }
    },
    {
      "cell_type": "markdown",
      "source": [
        "## **Os 5W's**\n",
        "\n",
        "* What (o que será feito?)\n",
        "\n",
        "lorem ipsum lorem ipsum\n",
        "\n",
        "* Why (por que será feito?)\n",
        "\n",
        "lorem ipsum lorem ipsum\n",
        "\n",
        "* Where (onde será feito?)\n",
        "\n",
        "lorem ipsum lorem ipsum\n",
        "\n",
        "* When (quando será feito?)\n",
        "\n",
        "lorem ipsum\n",
        "\n",
        "* Who (por quem será feito?)\n",
        "\n",
        "lorem ipsum"
      ],
      "metadata": {
        "id": "gDaYo-CaYt9q"
      }
    },
    {
      "cell_type": "markdown",
      "source": [
        "# ETL\n",
        "Extração, transformação, carregamento dos dados\n",
        "\n"
      ],
      "metadata": {
        "id": "1J_bHlTG0UPq"
      }
    },
    {
      "cell_type": "markdown",
      "source": [
        "## Install e Libs\n",
        "Instalações e importações das bibliotecas necessárias para o processo de ETL."
      ],
      "metadata": {
        "id": "L7abbfpEBjvV"
      }
    },
    {
      "cell_type": "code",
      "execution_count": 1,
      "metadata": {
        "id": "cGTV4K2w0xhZ",
        "colab": {
          "base_uri": "https://localhost:8080/"
        },
        "outputId": "94e9d2a0-18fe-482d-f9f4-960106b69200"
      },
      "outputs": [
        {
          "output_type": "stream",
          "name": "stdout",
          "text": [
            "Requirement already satisfied: gcsfs in /usr/local/lib/python3.10/dist-packages (2023.6.0)\n",
            "Requirement already satisfied: aiohttp!=4.0.0a0,!=4.0.0a1 in /usr/local/lib/python3.10/dist-packages (from gcsfs) (3.8.5)\n",
            "Requirement already satisfied: decorator>4.1.2 in /usr/local/lib/python3.10/dist-packages (from gcsfs) (4.4.2)\n",
            "Requirement already satisfied: fsspec==2023.6.0 in /usr/local/lib/python3.10/dist-packages (from gcsfs) (2023.6.0)\n",
            "Requirement already satisfied: google-auth>=1.2 in /usr/local/lib/python3.10/dist-packages (from gcsfs) (2.17.3)\n",
            "Requirement already satisfied: google-auth-oauthlib in /usr/local/lib/python3.10/dist-packages (from gcsfs) (1.0.0)\n",
            "Requirement already satisfied: google-cloud-storage in /usr/local/lib/python3.10/dist-packages (from gcsfs) (2.8.0)\n",
            "Requirement already satisfied: requests in /usr/local/lib/python3.10/dist-packages (from gcsfs) (2.27.1)\n",
            "Requirement already satisfied: attrs>=17.3.0 in /usr/local/lib/python3.10/dist-packages (from aiohttp!=4.0.0a0,!=4.0.0a1->gcsfs) (23.1.0)\n",
            "Requirement already satisfied: charset-normalizer<4.0,>=2.0 in /usr/local/lib/python3.10/dist-packages (from aiohttp!=4.0.0a0,!=4.0.0a1->gcsfs) (2.0.12)\n",
            "Requirement already satisfied: multidict<7.0,>=4.5 in /usr/local/lib/python3.10/dist-packages (from aiohttp!=4.0.0a0,!=4.0.0a1->gcsfs) (6.0.4)\n",
            "Requirement already satisfied: async-timeout<5.0,>=4.0.0a3 in /usr/local/lib/python3.10/dist-packages (from aiohttp!=4.0.0a0,!=4.0.0a1->gcsfs) (4.0.2)\n",
            "Requirement already satisfied: yarl<2.0,>=1.0 in /usr/local/lib/python3.10/dist-packages (from aiohttp!=4.0.0a0,!=4.0.0a1->gcsfs) (1.9.2)\n",
            "Requirement already satisfied: frozenlist>=1.1.1 in /usr/local/lib/python3.10/dist-packages (from aiohttp!=4.0.0a0,!=4.0.0a1->gcsfs) (1.4.0)\n",
            "Requirement already satisfied: aiosignal>=1.1.2 in /usr/local/lib/python3.10/dist-packages (from aiohttp!=4.0.0a0,!=4.0.0a1->gcsfs) (1.3.1)\n",
            "Requirement already satisfied: cachetools<6.0,>=2.0.0 in /usr/local/lib/python3.10/dist-packages (from google-auth>=1.2->gcsfs) (5.3.1)\n",
            "Requirement already satisfied: pyasn1-modules>=0.2.1 in /usr/local/lib/python3.10/dist-packages (from google-auth>=1.2->gcsfs) (0.3.0)\n",
            "Requirement already satisfied: six>=1.9.0 in /usr/local/lib/python3.10/dist-packages (from google-auth>=1.2->gcsfs) (1.16.0)\n",
            "Requirement already satisfied: rsa<5,>=3.1.4 in /usr/local/lib/python3.10/dist-packages (from google-auth>=1.2->gcsfs) (4.9)\n",
            "Requirement already satisfied: requests-oauthlib>=0.7.0 in /usr/local/lib/python3.10/dist-packages (from google-auth-oauthlib->gcsfs) (1.3.1)\n",
            "Requirement already satisfied: google-api-core!=2.0.*,!=2.1.*,!=2.2.*,!=2.3.0,<3.0.0dev,>=1.31.5 in /usr/local/lib/python3.10/dist-packages (from google-cloud-storage->gcsfs) (2.11.1)\n",
            "Requirement already satisfied: google-cloud-core<3.0dev,>=2.3.0 in /usr/local/lib/python3.10/dist-packages (from google-cloud-storage->gcsfs) (2.3.3)\n",
            "Requirement already satisfied: google-resumable-media>=2.3.2 in /usr/local/lib/python3.10/dist-packages (from google-cloud-storage->gcsfs) (2.5.0)\n",
            "Requirement already satisfied: urllib3<1.27,>=1.21.1 in /usr/local/lib/python3.10/dist-packages (from requests->gcsfs) (1.26.16)\n",
            "Requirement already satisfied: certifi>=2017.4.17 in /usr/local/lib/python3.10/dist-packages (from requests->gcsfs) (2023.7.22)\n",
            "Requirement already satisfied: idna<4,>=2.5 in /usr/local/lib/python3.10/dist-packages (from requests->gcsfs) (3.4)\n",
            "Requirement already satisfied: googleapis-common-protos<2.0.dev0,>=1.56.2 in /usr/local/lib/python3.10/dist-packages (from google-api-core!=2.0.*,!=2.1.*,!=2.2.*,!=2.3.0,<3.0.0dev,>=1.31.5->google-cloud-storage->gcsfs) (1.59.1)\n",
            "Requirement already satisfied: protobuf!=3.20.0,!=3.20.1,!=4.21.0,!=4.21.1,!=4.21.2,!=4.21.3,!=4.21.4,!=4.21.5,<5.0.0.dev0,>=3.19.5 in /usr/local/lib/python3.10/dist-packages (from google-api-core!=2.0.*,!=2.1.*,!=2.2.*,!=2.3.0,<3.0.0dev,>=1.31.5->google-cloud-storage->gcsfs) (3.20.3)\n",
            "Requirement already satisfied: google-crc32c<2.0dev,>=1.0 in /usr/local/lib/python3.10/dist-packages (from google-resumable-media>=2.3.2->google-cloud-storage->gcsfs) (1.5.0)\n",
            "Requirement already satisfied: pyasn1<0.6.0,>=0.4.6 in /usr/local/lib/python3.10/dist-packages (from pyasn1-modules>=0.2.1->google-auth>=1.2->gcsfs) (0.5.0)\n",
            "Requirement already satisfied: oauthlib>=3.0.0 in /usr/local/lib/python3.10/dist-packages (from requests-oauthlib>=0.7.0->google-auth-oauthlib->gcsfs) (3.2.2)\n"
          ]
        }
      ],
      "source": [
        "!pip install gcsfs # instalaçao de biblioteca para interagir com google cloud"
      ]
    },
    {
      "cell_type": "code",
      "source": [
        "!pip install pandera # instalaçao de biblioteca para validar dados com pandera"
      ],
      "metadata": {
        "id": "jnnF93Nv9L64",
        "colab": {
          "base_uri": "https://localhost:8080/"
        },
        "outputId": "e0ac09e8-ccd1-4781-82cf-170523645703"
      },
      "execution_count": 2,
      "outputs": [
        {
          "output_type": "stream",
          "name": "stdout",
          "text": [
            "Requirement already satisfied: pandera in /usr/local/lib/python3.10/dist-packages (0.16.1)\n",
            "Requirement already satisfied: multimethod in /usr/local/lib/python3.10/dist-packages (from pandera) (1.9.1)\n",
            "Requirement already satisfied: numpy>=1.19.0 in /usr/local/lib/python3.10/dist-packages (from pandera) (1.22.4)\n",
            "Requirement already satisfied: packaging>=20.0 in /usr/local/lib/python3.10/dist-packages (from pandera) (23.1)\n",
            "Requirement already satisfied: pandas>=1.2.0 in /usr/local/lib/python3.10/dist-packages (from pandera) (1.5.3)\n",
            "Requirement already satisfied: pydantic<2.0.0 in /usr/local/lib/python3.10/dist-packages (from pandera) (1.10.12)\n",
            "Requirement already satisfied: typeguard>=3.0.2 in /usr/local/lib/python3.10/dist-packages (from pandera) (4.1.0)\n",
            "Requirement already satisfied: typing-inspect>=0.6.0 in /usr/local/lib/python3.10/dist-packages (from pandera) (0.9.0)\n",
            "Requirement already satisfied: wrapt in /usr/local/lib/python3.10/dist-packages (from pandera) (1.14.1)\n",
            "Requirement already satisfied: python-dateutil>=2.8.1 in /usr/local/lib/python3.10/dist-packages (from pandas>=1.2.0->pandera) (2.8.2)\n",
            "Requirement already satisfied: pytz>=2020.1 in /usr/local/lib/python3.10/dist-packages (from pandas>=1.2.0->pandera) (2022.7.1)\n",
            "Requirement already satisfied: typing-extensions>=4.2.0 in /usr/local/lib/python3.10/dist-packages (from pydantic<2.0.0->pandera) (4.7.1)\n",
            "Requirement already satisfied: mypy-extensions>=0.3.0 in /usr/local/lib/python3.10/dist-packages (from typing-inspect>=0.6.0->pandera) (1.0.0)\n",
            "Requirement already satisfied: six>=1.5 in /usr/local/lib/python3.10/dist-packages (from python-dateutil>=2.8.1->pandas>=1.2.0->pandera) (1.16.0)\n"
          ]
        }
      ]
    },
    {
      "cell_type": "code",
      "source": [
        "import os\n",
        "import pandas as pd\n",
        "import numpy as np\n",
        "import os\n",
        "import pandera as pa\n",
        "import matplotlib.pyplot as plt\n",
        "import matplotlib.patches as mpatches\n",
        "import seaborn as sns\n",
        "from google.cloud import storage\n",
        "from google.colab import drive\n",
        "from google.colab import auth\n",
        "from pydrive.auth import GoogleAuth\n",
        "from pydrive.drive import GoogleDrive\n",
        "from oauth2client.client import GoogleCredentials"
      ],
      "metadata": {
        "id": "9PyA1knO9Wau"
      },
      "execution_count": 3,
      "outputs": []
    },
    {
      "cell_type": "code",
      "source": [],
      "metadata": {
        "id": "RZerQzPKkS_L"
      },
      "execution_count": 3,
      "outputs": []
    },
    {
      "cell_type": "code",
      "source": [
        "# Ignorando alguns alertas desnecessários\n",
        "import warnings\n",
        "warnings.filterwarnings(\"ignore\")"
      ],
      "metadata": {
        "id": "um2OUpf69mnW"
      },
      "execution_count": 4,
      "outputs": []
    },
    {
      "cell_type": "code",
      "source": [
        "# Configuração da quantidade de colunas para aparecer em um DataFrame\n",
        "pd.set_option('display.max_columns',100)"
      ],
      "metadata": {
        "id": "AeslQXYjNiEy"
      },
      "execution_count": 5,
      "outputs": []
    },
    {
      "cell_type": "markdown",
      "source": [
        "## Extração\n",
        "A primeira etapa da ETL é a extração dos dados de sua fonte original. Dependendo do tipo de dados e da fonte, você pode precisar de diferentes ferramentas e técnicas para extrair os dados."
      ],
      "metadata": {
        "id": "0dZJqZvm1DES"
      }
    },
    {
      "cell_type": "code",
      "source": [
        "# Cria compartilhamento com Google Drive\n",
        "drive.mount('/content/drive', force_remount=True)\n",
        "\n",
        "# Arquivo a ser acessado na pasta compartilhada\n",
        "target = 'projeto-final-ad2-e8-ae566c3a2c2b.json'\n",
        "\n",
        "# Caminho completo da pasta compartilhada\n",
        "folder = '/content/drive/MyDrive/Classroom/AD2 - Analista de Dados/ProjetoFinal'\n",
        "\n",
        "# Acesso ao arquivo no colab\n",
        "serviceAccount = os.path.join(folder, target)"
      ],
      "metadata": {
        "id": "49BHWghVdgo7",
        "colab": {
          "base_uri": "https://localhost:8080/"
        },
        "outputId": "55fab25d-d505-42fc-a9ab-ecd1eae4c199"
      },
      "execution_count": 6,
      "outputs": [
        {
          "output_type": "stream",
          "name": "stdout",
          "text": [
            "Mounted at /content/drive\n"
          ]
        }
      ]
    },
    {
      "cell_type": "code",
      "source": [
        "# Conexão com a conta do Google Cloud\n",
        "os.environ['GOOGLE_APPLICATION_CREDENTIALS'] = serviceAccount"
      ],
      "metadata": {
        "id": "CyymFDdQ2akm"
      },
      "execution_count": 7,
      "outputs": []
    },
    {
      "cell_type": "code",
      "source": [
        "# CONFIGURANDO DA CHAVE DE SEGURANCA - ACESSO O PROJETO\n",
        "serviceAccount = '/content/projeto-final-ad2-e8-ae566c3a2c2b.json'\n",
        "os.environ['GOOGLE_APPLICATION_CREDENTIALS'] = serviceAccount"
      ],
      "metadata": {
        "id": "15DlC0EbFcRL"
      },
      "execution_count": 8,
      "outputs": []
    },
    {
      "cell_type": "code",
      "source": [
        "# Conexão com a bucket do Google Cloud\n",
        "\n",
        "client = storage.Client()\n",
        "bucket = client.get_bucket('projeto-final-ad2-e8') # nome do bucket\n",
        "bucket.blob('projeto-final-ad2-e8/dados/brutos/excel/2_1_cap_instalada_por_regiao_e_uf.xlsx ') # nome do arquivo\n",
        "path = 'gs://projeto-final-ad2-e8/dados/brutos/excel/2_1_cap_instalada_por_regiao_e_uf.xlsx' # gsutil\n",
        "\n"
      ],
      "metadata": {
        "id": "TV-rH7EWbVpm"
      },
      "execution_count": 9,
      "outputs": []
    },
    {
      "cell_type": "code",
      "source": [
        "# Leitura e configuração dos arquivos extraidos\n",
        "df = pd.read_excel(path)"
      ],
      "metadata": {
        "id": "5RA70GsGesUH"
      },
      "execution_count": 10,
      "outputs": []
    },
    {
      "cell_type": "markdown",
      "source": [
        "### Pré Análise"
      ],
      "metadata": {
        "id": "V1UNCIESAaZN"
      }
    },
    {
      "cell_type": "code",
      "source": [
        "# Visualização geral\n",
        "df"
      ],
      "metadata": {
        "id": "ji1Xb8ccfuyt",
        "colab": {
          "base_uri": "https://localhost:8080/",
          "height": 423
        },
        "outputId": "b6669086-2c32-433c-dc1f-19f1058d7d47"
      },
      "execution_count": 11,
      "outputs": [
        {
          "output_type": "execute_result",
          "data": {
            "text/plain": [
              "              grupo macro_grupo   ano   tipo_de_informacao          total\n",
              "0            Brasil      Brasil  2013  Cap. Instalada (MW)  126743.303060\n",
              "1            Brasil      Brasil  2013        Geração (GWh)  570834.647328\n",
              "2            Brasil      Brasil  2014  Cap. Instalada (MW)  133912.521110\n",
              "3            Brasil      Brasil  2014        Geração (GWh)  590542.338656\n",
              "4            Brasil      Brasil  2015  Cap. Instalada (MW)  140857.748378\n",
              "..              ...         ...   ...                  ...            ...\n",
              "555  Santa Catarina         Sul  2020        Geração (GWh)   16590.335429\n",
              "556  Santa Catarina         Sul  2021  Cap. Instalada (MW)    5817.516860\n",
              "557  Santa Catarina         Sul  2021        Geração (GWh)   20602.443775\n",
              "558  Santa Catarina         Sul  2022  Cap. Instalada (MW)    5953.170600\n",
              "559  Santa Catarina         Sul  2022        Geração (GWh)   26793.393078\n",
              "\n",
              "[560 rows x 5 columns]"
            ],
            "text/html": [
              "\n",
              "\n",
              "  <div id=\"df-3d57b1ec-077a-4fc5-8f0f-53b059976861\">\n",
              "    <div class=\"colab-df-container\">\n",
              "      <div>\n",
              "<style scoped>\n",
              "    .dataframe tbody tr th:only-of-type {\n",
              "        vertical-align: middle;\n",
              "    }\n",
              "\n",
              "    .dataframe tbody tr th {\n",
              "        vertical-align: top;\n",
              "    }\n",
              "\n",
              "    .dataframe thead th {\n",
              "        text-align: right;\n",
              "    }\n",
              "</style>\n",
              "<table border=\"1\" class=\"dataframe\">\n",
              "  <thead>\n",
              "    <tr style=\"text-align: right;\">\n",
              "      <th></th>\n",
              "      <th>grupo</th>\n",
              "      <th>macro_grupo</th>\n",
              "      <th>ano</th>\n",
              "      <th>tipo_de_informacao</th>\n",
              "      <th>total</th>\n",
              "    </tr>\n",
              "  </thead>\n",
              "  <tbody>\n",
              "    <tr>\n",
              "      <th>0</th>\n",
              "      <td>Brasil</td>\n",
              "      <td>Brasil</td>\n",
              "      <td>2013</td>\n",
              "      <td>Cap. Instalada (MW)</td>\n",
              "      <td>126743.303060</td>\n",
              "    </tr>\n",
              "    <tr>\n",
              "      <th>1</th>\n",
              "      <td>Brasil</td>\n",
              "      <td>Brasil</td>\n",
              "      <td>2013</td>\n",
              "      <td>Geração (GWh)</td>\n",
              "      <td>570834.647328</td>\n",
              "    </tr>\n",
              "    <tr>\n",
              "      <th>2</th>\n",
              "      <td>Brasil</td>\n",
              "      <td>Brasil</td>\n",
              "      <td>2014</td>\n",
              "      <td>Cap. Instalada (MW)</td>\n",
              "      <td>133912.521110</td>\n",
              "    </tr>\n",
              "    <tr>\n",
              "      <th>3</th>\n",
              "      <td>Brasil</td>\n",
              "      <td>Brasil</td>\n",
              "      <td>2014</td>\n",
              "      <td>Geração (GWh)</td>\n",
              "      <td>590542.338656</td>\n",
              "    </tr>\n",
              "    <tr>\n",
              "      <th>4</th>\n",
              "      <td>Brasil</td>\n",
              "      <td>Brasil</td>\n",
              "      <td>2015</td>\n",
              "      <td>Cap. Instalada (MW)</td>\n",
              "      <td>140857.748378</td>\n",
              "    </tr>\n",
              "    <tr>\n",
              "      <th>...</th>\n",
              "      <td>...</td>\n",
              "      <td>...</td>\n",
              "      <td>...</td>\n",
              "      <td>...</td>\n",
              "      <td>...</td>\n",
              "    </tr>\n",
              "    <tr>\n",
              "      <th>555</th>\n",
              "      <td>Santa Catarina</td>\n",
              "      <td>Sul</td>\n",
              "      <td>2020</td>\n",
              "      <td>Geração (GWh)</td>\n",
              "      <td>16590.335429</td>\n",
              "    </tr>\n",
              "    <tr>\n",
              "      <th>556</th>\n",
              "      <td>Santa Catarina</td>\n",
              "      <td>Sul</td>\n",
              "      <td>2021</td>\n",
              "      <td>Cap. Instalada (MW)</td>\n",
              "      <td>5817.516860</td>\n",
              "    </tr>\n",
              "    <tr>\n",
              "      <th>557</th>\n",
              "      <td>Santa Catarina</td>\n",
              "      <td>Sul</td>\n",
              "      <td>2021</td>\n",
              "      <td>Geração (GWh)</td>\n",
              "      <td>20602.443775</td>\n",
              "    </tr>\n",
              "    <tr>\n",
              "      <th>558</th>\n",
              "      <td>Santa Catarina</td>\n",
              "      <td>Sul</td>\n",
              "      <td>2022</td>\n",
              "      <td>Cap. Instalada (MW)</td>\n",
              "      <td>5953.170600</td>\n",
              "    </tr>\n",
              "    <tr>\n",
              "      <th>559</th>\n",
              "      <td>Santa Catarina</td>\n",
              "      <td>Sul</td>\n",
              "      <td>2022</td>\n",
              "      <td>Geração (GWh)</td>\n",
              "      <td>26793.393078</td>\n",
              "    </tr>\n",
              "  </tbody>\n",
              "</table>\n",
              "<p>560 rows × 5 columns</p>\n",
              "</div>\n",
              "      <button class=\"colab-df-convert\" onclick=\"convertToInteractive('df-3d57b1ec-077a-4fc5-8f0f-53b059976861')\"\n",
              "              title=\"Convert this dataframe to an interactive table.\"\n",
              "              style=\"display:none;\">\n",
              "\n",
              "  <svg xmlns=\"http://www.w3.org/2000/svg\" height=\"24px\"viewBox=\"0 0 24 24\"\n",
              "       width=\"24px\">\n",
              "    <path d=\"M0 0h24v24H0V0z\" fill=\"none\"/>\n",
              "    <path d=\"M18.56 5.44l.94 2.06.94-2.06 2.06-.94-2.06-.94-.94-2.06-.94 2.06-2.06.94zm-11 1L8.5 8.5l.94-2.06 2.06-.94-2.06-.94L8.5 2.5l-.94 2.06-2.06.94zm10 10l.94 2.06.94-2.06 2.06-.94-2.06-.94-.94-2.06-.94 2.06-2.06.94z\"/><path d=\"M17.41 7.96l-1.37-1.37c-.4-.4-.92-.59-1.43-.59-.52 0-1.04.2-1.43.59L10.3 9.45l-7.72 7.72c-.78.78-.78 2.05 0 2.83L4 21.41c.39.39.9.59 1.41.59.51 0 1.02-.2 1.41-.59l7.78-7.78 2.81-2.81c.8-.78.8-2.07 0-2.86zM5.41 20L4 18.59l7.72-7.72 1.47 1.35L5.41 20z\"/>\n",
              "  </svg>\n",
              "      </button>\n",
              "\n",
              "\n",
              "\n",
              "    <div id=\"df-e0444071-fab2-4d76-a78d-bc32978f1969\">\n",
              "      <button class=\"colab-df-quickchart\" onclick=\"quickchart('df-e0444071-fab2-4d76-a78d-bc32978f1969')\"\n",
              "              title=\"Suggest charts.\"\n",
              "              style=\"display:none;\">\n",
              "\n",
              "<svg xmlns=\"http://www.w3.org/2000/svg\" height=\"24px\"viewBox=\"0 0 24 24\"\n",
              "     width=\"24px\">\n",
              "    <g>\n",
              "        <path d=\"M19 3H5c-1.1 0-2 .9-2 2v14c0 1.1.9 2 2 2h14c1.1 0 2-.9 2-2V5c0-1.1-.9-2-2-2zM9 17H7v-7h2v7zm4 0h-2V7h2v10zm4 0h-2v-4h2v4z\"/>\n",
              "    </g>\n",
              "</svg>\n",
              "      </button>\n",
              "    </div>\n",
              "\n",
              "<style>\n",
              "  .colab-df-quickchart {\n",
              "    background-color: #E8F0FE;\n",
              "    border: none;\n",
              "    border-radius: 50%;\n",
              "    cursor: pointer;\n",
              "    display: none;\n",
              "    fill: #1967D2;\n",
              "    height: 32px;\n",
              "    padding: 0 0 0 0;\n",
              "    width: 32px;\n",
              "  }\n",
              "\n",
              "  .colab-df-quickchart:hover {\n",
              "    background-color: #E2EBFA;\n",
              "    box-shadow: 0px 1px 2px rgba(60, 64, 67, 0.3), 0px 1px 3px 1px rgba(60, 64, 67, 0.15);\n",
              "    fill: #174EA6;\n",
              "  }\n",
              "\n",
              "  [theme=dark] .colab-df-quickchart {\n",
              "    background-color: #3B4455;\n",
              "    fill: #D2E3FC;\n",
              "  }\n",
              "\n",
              "  [theme=dark] .colab-df-quickchart:hover {\n",
              "    background-color: #434B5C;\n",
              "    box-shadow: 0px 1px 3px 1px rgba(0, 0, 0, 0.15);\n",
              "    filter: drop-shadow(0px 1px 2px rgba(0, 0, 0, 0.3));\n",
              "    fill: #FFFFFF;\n",
              "  }\n",
              "</style>\n",
              "\n",
              "    <script>\n",
              "      async function quickchart(key) {\n",
              "        const containerElement = document.querySelector('#' + key);\n",
              "        const charts = await google.colab.kernel.invokeFunction(\n",
              "            'suggestCharts', [key], {});\n",
              "      }\n",
              "    </script>\n",
              "\n",
              "      <script>\n",
              "\n",
              "function displayQuickchartButton(domScope) {\n",
              "  let quickchartButtonEl =\n",
              "    domScope.querySelector('#df-e0444071-fab2-4d76-a78d-bc32978f1969 button.colab-df-quickchart');\n",
              "  quickchartButtonEl.style.display =\n",
              "    google.colab.kernel.accessAllowed ? 'block' : 'none';\n",
              "}\n",
              "\n",
              "        displayQuickchartButton(document);\n",
              "      </script>\n",
              "      <style>\n",
              "    .colab-df-container {\n",
              "      display:flex;\n",
              "      flex-wrap:wrap;\n",
              "      gap: 12px;\n",
              "    }\n",
              "\n",
              "    .colab-df-convert {\n",
              "      background-color: #E8F0FE;\n",
              "      border: none;\n",
              "      border-radius: 50%;\n",
              "      cursor: pointer;\n",
              "      display: none;\n",
              "      fill: #1967D2;\n",
              "      height: 32px;\n",
              "      padding: 0 0 0 0;\n",
              "      width: 32px;\n",
              "    }\n",
              "\n",
              "    .colab-df-convert:hover {\n",
              "      background-color: #E2EBFA;\n",
              "      box-shadow: 0px 1px 2px rgba(60, 64, 67, 0.3), 0px 1px 3px 1px rgba(60, 64, 67, 0.15);\n",
              "      fill: #174EA6;\n",
              "    }\n",
              "\n",
              "    [theme=dark] .colab-df-convert {\n",
              "      background-color: #3B4455;\n",
              "      fill: #D2E3FC;\n",
              "    }\n",
              "\n",
              "    [theme=dark] .colab-df-convert:hover {\n",
              "      background-color: #434B5C;\n",
              "      box-shadow: 0px 1px 3px 1px rgba(0, 0, 0, 0.15);\n",
              "      filter: drop-shadow(0px 1px 2px rgba(0, 0, 0, 0.3));\n",
              "      fill: #FFFFFF;\n",
              "    }\n",
              "  </style>\n",
              "\n",
              "      <script>\n",
              "        const buttonEl =\n",
              "          document.querySelector('#df-3d57b1ec-077a-4fc5-8f0f-53b059976861 button.colab-df-convert');\n",
              "        buttonEl.style.display =\n",
              "          google.colab.kernel.accessAllowed ? 'block' : 'none';\n",
              "\n",
              "        async function convertToInteractive(key) {\n",
              "          const element = document.querySelector('#df-3d57b1ec-077a-4fc5-8f0f-53b059976861');\n",
              "          const dataTable =\n",
              "            await google.colab.kernel.invokeFunction('convertToInteractive',\n",
              "                                                     [key], {});\n",
              "          if (!dataTable) return;\n",
              "\n",
              "          const docLinkHtml = 'Like what you see? Visit the ' +\n",
              "            '<a target=\"_blank\" href=https://colab.research.google.com/notebooks/data_table.ipynb>data table notebook</a>'\n",
              "            + ' to learn more about interactive tables.';\n",
              "          element.innerHTML = '';\n",
              "          dataTable['output_type'] = 'display_data';\n",
              "          await google.colab.output.renderOutput(dataTable, element);\n",
              "          const docLink = document.createElement('div');\n",
              "          docLink.innerHTML = docLinkHtml;\n",
              "          element.appendChild(docLink);\n",
              "        }\n",
              "      </script>\n",
              "    </div>\n",
              "  </div>\n"
            ]
          },
          "metadata": {},
          "execution_count": 11
        }
      ]
    },
    {
      "cell_type": "code",
      "source": [
        "# Visualização de forma aleatoria\n",
        "df.sample(3)"
      ],
      "metadata": {
        "id": "7VOwplWAj1qP",
        "colab": {
          "base_uri": "https://localhost:8080/",
          "height": 143
        },
        "outputId": "2965aff6-7be9-4678-acba-b0fea2b68b00"
      },
      "execution_count": 12,
      "outputs": [
        {
          "output_type": "execute_result",
          "data": {
            "text/plain": [
              "         grupo macro_grupo   ano   tipo_de_informacao         total\n",
              "414  Tocantins       Norte  2020  Cap. Instalada (MW)   2481.820000\n",
              "505     Paraná         Sul  2015        Geração (GWh)  99409.993008\n",
              "416  Tocantins       Norte  2021  Cap. Instalada (MW)   2489.628000"
            ],
            "text/html": [
              "\n",
              "\n",
              "  <div id=\"df-e3a60e50-165f-4364-a8e4-d86553c24c64\">\n",
              "    <div class=\"colab-df-container\">\n",
              "      <div>\n",
              "<style scoped>\n",
              "    .dataframe tbody tr th:only-of-type {\n",
              "        vertical-align: middle;\n",
              "    }\n",
              "\n",
              "    .dataframe tbody tr th {\n",
              "        vertical-align: top;\n",
              "    }\n",
              "\n",
              "    .dataframe thead th {\n",
              "        text-align: right;\n",
              "    }\n",
              "</style>\n",
              "<table border=\"1\" class=\"dataframe\">\n",
              "  <thead>\n",
              "    <tr style=\"text-align: right;\">\n",
              "      <th></th>\n",
              "      <th>grupo</th>\n",
              "      <th>macro_grupo</th>\n",
              "      <th>ano</th>\n",
              "      <th>tipo_de_informacao</th>\n",
              "      <th>total</th>\n",
              "    </tr>\n",
              "  </thead>\n",
              "  <tbody>\n",
              "    <tr>\n",
              "      <th>414</th>\n",
              "      <td>Tocantins</td>\n",
              "      <td>Norte</td>\n",
              "      <td>2020</td>\n",
              "      <td>Cap. Instalada (MW)</td>\n",
              "      <td>2481.820000</td>\n",
              "    </tr>\n",
              "    <tr>\n",
              "      <th>505</th>\n",
              "      <td>Paraná</td>\n",
              "      <td>Sul</td>\n",
              "      <td>2015</td>\n",
              "      <td>Geração (GWh)</td>\n",
              "      <td>99409.993008</td>\n",
              "    </tr>\n",
              "    <tr>\n",
              "      <th>416</th>\n",
              "      <td>Tocantins</td>\n",
              "      <td>Norte</td>\n",
              "      <td>2021</td>\n",
              "      <td>Cap. Instalada (MW)</td>\n",
              "      <td>2489.628000</td>\n",
              "    </tr>\n",
              "  </tbody>\n",
              "</table>\n",
              "</div>\n",
              "      <button class=\"colab-df-convert\" onclick=\"convertToInteractive('df-e3a60e50-165f-4364-a8e4-d86553c24c64')\"\n",
              "              title=\"Convert this dataframe to an interactive table.\"\n",
              "              style=\"display:none;\">\n",
              "\n",
              "  <svg xmlns=\"http://www.w3.org/2000/svg\" height=\"24px\"viewBox=\"0 0 24 24\"\n",
              "       width=\"24px\">\n",
              "    <path d=\"M0 0h24v24H0V0z\" fill=\"none\"/>\n",
              "    <path d=\"M18.56 5.44l.94 2.06.94-2.06 2.06-.94-2.06-.94-.94-2.06-.94 2.06-2.06.94zm-11 1L8.5 8.5l.94-2.06 2.06-.94-2.06-.94L8.5 2.5l-.94 2.06-2.06.94zm10 10l.94 2.06.94-2.06 2.06-.94-2.06-.94-.94-2.06-.94 2.06-2.06.94z\"/><path d=\"M17.41 7.96l-1.37-1.37c-.4-.4-.92-.59-1.43-.59-.52 0-1.04.2-1.43.59L10.3 9.45l-7.72 7.72c-.78.78-.78 2.05 0 2.83L4 21.41c.39.39.9.59 1.41.59.51 0 1.02-.2 1.41-.59l7.78-7.78 2.81-2.81c.8-.78.8-2.07 0-2.86zM5.41 20L4 18.59l7.72-7.72 1.47 1.35L5.41 20z\"/>\n",
              "  </svg>\n",
              "      </button>\n",
              "\n",
              "\n",
              "\n",
              "    <div id=\"df-1f980627-d9dd-43e1-bc70-5ac7618b9271\">\n",
              "      <button class=\"colab-df-quickchart\" onclick=\"quickchart('df-1f980627-d9dd-43e1-bc70-5ac7618b9271')\"\n",
              "              title=\"Suggest charts.\"\n",
              "              style=\"display:none;\">\n",
              "\n",
              "<svg xmlns=\"http://www.w3.org/2000/svg\" height=\"24px\"viewBox=\"0 0 24 24\"\n",
              "     width=\"24px\">\n",
              "    <g>\n",
              "        <path d=\"M19 3H5c-1.1 0-2 .9-2 2v14c0 1.1.9 2 2 2h14c1.1 0 2-.9 2-2V5c0-1.1-.9-2-2-2zM9 17H7v-7h2v7zm4 0h-2V7h2v10zm4 0h-2v-4h2v4z\"/>\n",
              "    </g>\n",
              "</svg>\n",
              "      </button>\n",
              "    </div>\n",
              "\n",
              "<style>\n",
              "  .colab-df-quickchart {\n",
              "    background-color: #E8F0FE;\n",
              "    border: none;\n",
              "    border-radius: 50%;\n",
              "    cursor: pointer;\n",
              "    display: none;\n",
              "    fill: #1967D2;\n",
              "    height: 32px;\n",
              "    padding: 0 0 0 0;\n",
              "    width: 32px;\n",
              "  }\n",
              "\n",
              "  .colab-df-quickchart:hover {\n",
              "    background-color: #E2EBFA;\n",
              "    box-shadow: 0px 1px 2px rgba(60, 64, 67, 0.3), 0px 1px 3px 1px rgba(60, 64, 67, 0.15);\n",
              "    fill: #174EA6;\n",
              "  }\n",
              "\n",
              "  [theme=dark] .colab-df-quickchart {\n",
              "    background-color: #3B4455;\n",
              "    fill: #D2E3FC;\n",
              "  }\n",
              "\n",
              "  [theme=dark] .colab-df-quickchart:hover {\n",
              "    background-color: #434B5C;\n",
              "    box-shadow: 0px 1px 3px 1px rgba(0, 0, 0, 0.15);\n",
              "    filter: drop-shadow(0px 1px 2px rgba(0, 0, 0, 0.3));\n",
              "    fill: #FFFFFF;\n",
              "  }\n",
              "</style>\n",
              "\n",
              "    <script>\n",
              "      async function quickchart(key) {\n",
              "        const containerElement = document.querySelector('#' + key);\n",
              "        const charts = await google.colab.kernel.invokeFunction(\n",
              "            'suggestCharts', [key], {});\n",
              "      }\n",
              "    </script>\n",
              "\n",
              "      <script>\n",
              "\n",
              "function displayQuickchartButton(domScope) {\n",
              "  let quickchartButtonEl =\n",
              "    domScope.querySelector('#df-1f980627-d9dd-43e1-bc70-5ac7618b9271 button.colab-df-quickchart');\n",
              "  quickchartButtonEl.style.display =\n",
              "    google.colab.kernel.accessAllowed ? 'block' : 'none';\n",
              "}\n",
              "\n",
              "        displayQuickchartButton(document);\n",
              "      </script>\n",
              "      <style>\n",
              "    .colab-df-container {\n",
              "      display:flex;\n",
              "      flex-wrap:wrap;\n",
              "      gap: 12px;\n",
              "    }\n",
              "\n",
              "    .colab-df-convert {\n",
              "      background-color: #E8F0FE;\n",
              "      border: none;\n",
              "      border-radius: 50%;\n",
              "      cursor: pointer;\n",
              "      display: none;\n",
              "      fill: #1967D2;\n",
              "      height: 32px;\n",
              "      padding: 0 0 0 0;\n",
              "      width: 32px;\n",
              "    }\n",
              "\n",
              "    .colab-df-convert:hover {\n",
              "      background-color: #E2EBFA;\n",
              "      box-shadow: 0px 1px 2px rgba(60, 64, 67, 0.3), 0px 1px 3px 1px rgba(60, 64, 67, 0.15);\n",
              "      fill: #174EA6;\n",
              "    }\n",
              "\n",
              "    [theme=dark] .colab-df-convert {\n",
              "      background-color: #3B4455;\n",
              "      fill: #D2E3FC;\n",
              "    }\n",
              "\n",
              "    [theme=dark] .colab-df-convert:hover {\n",
              "      background-color: #434B5C;\n",
              "      box-shadow: 0px 1px 3px 1px rgba(0, 0, 0, 0.15);\n",
              "      filter: drop-shadow(0px 1px 2px rgba(0, 0, 0, 0.3));\n",
              "      fill: #FFFFFF;\n",
              "    }\n",
              "  </style>\n",
              "\n",
              "      <script>\n",
              "        const buttonEl =\n",
              "          document.querySelector('#df-e3a60e50-165f-4364-a8e4-d86553c24c64 button.colab-df-convert');\n",
              "        buttonEl.style.display =\n",
              "          google.colab.kernel.accessAllowed ? 'block' : 'none';\n",
              "\n",
              "        async function convertToInteractive(key) {\n",
              "          const element = document.querySelector('#df-e3a60e50-165f-4364-a8e4-d86553c24c64');\n",
              "          const dataTable =\n",
              "            await google.colab.kernel.invokeFunction('convertToInteractive',\n",
              "                                                     [key], {});\n",
              "          if (!dataTable) return;\n",
              "\n",
              "          const docLinkHtml = 'Like what you see? Visit the ' +\n",
              "            '<a target=\"_blank\" href=https://colab.research.google.com/notebooks/data_table.ipynb>data table notebook</a>'\n",
              "            + ' to learn more about interactive tables.';\n",
              "          element.innerHTML = '';\n",
              "          dataTable['output_type'] = 'display_data';\n",
              "          await google.colab.output.renderOutput(dataTable, element);\n",
              "          const docLink = document.createElement('div');\n",
              "          docLink.innerHTML = docLinkHtml;\n",
              "          element.appendChild(docLink);\n",
              "        }\n",
              "      </script>\n",
              "    </div>\n",
              "  </div>\n"
            ]
          },
          "metadata": {},
          "execution_count": 12
        }
      ]
    },
    {
      "cell_type": "code",
      "source": [
        "# Tamanho total de (linhas , colunas)\n",
        "df.shape"
      ],
      "metadata": {
        "id": "Vk8p8Nd-kMWP",
        "colab": {
          "base_uri": "https://localhost:8080/"
        },
        "outputId": "5e5312d9-6722-4219-f1de-117b921ce1a4"
      },
      "execution_count": 13,
      "outputs": [
        {
          "output_type": "execute_result",
          "data": {
            "text/plain": [
              "(560, 5)"
            ]
          },
          "metadata": {},
          "execution_count": 13
        }
      ]
    },
    {
      "cell_type": "code",
      "source": [
        "# Todos os tipos de dados presentes\n",
        "df.dtypes"
      ],
      "metadata": {
        "id": "fsZ6_xn6mGo3",
        "colab": {
          "base_uri": "https://localhost:8080/"
        },
        "outputId": "0de665d9-a9f8-4e81-e648-c34ae536d34c"
      },
      "execution_count": 14,
      "outputs": [
        {
          "output_type": "execute_result",
          "data": {
            "text/plain": [
              "grupo                  object\n",
              "macro_grupo            object\n",
              "ano                     int64\n",
              "tipo_de_informacao     object\n",
              "total                 float64\n",
              "dtype: object"
            ]
          },
          "metadata": {},
          "execution_count": 14
        }
      ]
    },
    {
      "cell_type": "code",
      "source": [
        "# Contagem de observações para cada coluna\n",
        "df.count()"
      ],
      "metadata": {
        "id": "-mLulv3imH94",
        "colab": {
          "base_uri": "https://localhost:8080/"
        },
        "outputId": "f690335d-d7c8-4778-d6f3-bcf494315e56"
      },
      "execution_count": 15,
      "outputs": [
        {
          "output_type": "execute_result",
          "data": {
            "text/plain": [
              "grupo                 560\n",
              "macro_grupo           560\n",
              "ano                   560\n",
              "tipo_de_informacao    560\n",
              "total                 560\n",
              "dtype: int64"
            ]
          },
          "metadata": {},
          "execution_count": 15
        }
      ]
    },
    {
      "cell_type": "code",
      "source": [
        "# Informações detalhadas\n",
        "df.info()"
      ],
      "metadata": {
        "id": "m6SgfErBpnz3",
        "colab": {
          "base_uri": "https://localhost:8080/"
        },
        "outputId": "9a16bdad-385d-435b-b02f-3090a557fd83"
      },
      "execution_count": 16,
      "outputs": [
        {
          "output_type": "stream",
          "name": "stdout",
          "text": [
            "<class 'pandas.core.frame.DataFrame'>\n",
            "RangeIndex: 560 entries, 0 to 559\n",
            "Data columns (total 5 columns):\n",
            " #   Column              Non-Null Count  Dtype  \n",
            "---  ------              --------------  -----  \n",
            " 0   grupo               560 non-null    object \n",
            " 1   macro_grupo         560 non-null    object \n",
            " 2   ano                 560 non-null    int64  \n",
            " 3   tipo_de_informacao  560 non-null    object \n",
            " 4   total               560 non-null    float64\n",
            "dtypes: float64(1), int64(1), object(3)\n",
            "memory usage: 22.0+ KB\n"
          ]
        }
      ]
    },
    {
      "cell_type": "code",
      "source": [
        "# Backup local\n",
        "dfbackup1 = df.copy()"
      ],
      "metadata": {
        "id": "HhW4D4A9qTwe"
      },
      "execution_count": 17,
      "outputs": []
    },
    {
      "cell_type": "code",
      "source": [
        "# Fazendo um relatório para mostrar os valores únicos de cada atributo.\n",
        "# O for vai garantir que a atividade seja feita automaticamentepara todos os atributos\n",
        "\n",
        "for coluna in df:\n",
        "    valor = (df[coluna].unique())\n",
        "    print(\"-\"*70)\n",
        "    msg = f\"Valores únicos para o atributo {coluna}:\"\n",
        "    print(f\"{msg:^70}\")\n",
        "    print(\"-\"*70)\n",
        "    print(f\"\\n{valor}\\n\")\n",
        "    print(\"-\"*70)\n"
      ],
      "metadata": {
        "id": "KcNCjl87B9rk",
        "colab": {
          "base_uri": "https://localhost:8080/"
        },
        "outputId": "de346ffc-ca83-4b1e-d6dc-0ad972613001"
      },
      "execution_count": 18,
      "outputs": [
        {
          "output_type": "stream",
          "name": "stdout",
          "text": [
            "----------------------------------------------------------------------\n",
            "                Valores únicos para o atributo grupo:                 \n",
            "----------------------------------------------------------------------\n",
            "\n",
            "['Brasil' 'Distrito Federal' 'Goiás' 'Mato Grosso' 'Mato Grosso do Sul'\n",
            " 'Alagoas' 'Bahia' 'Ceará' 'Maranhão' 'Paraíba' 'Pernambuco' 'Piauí'\n",
            " 'Rio Grande do Norte' 'Sergipe' 'Acre' 'Amapá' 'Amazonas' 'Pará'\n",
            " 'Rondônia' 'Roraima' 'Tocantins' 'Espírito Santo' 'Minas Gerais'\n",
            " 'Rio de Janeiro' 'São Paulo' 'Paraná' 'Rio Grande do Sul'\n",
            " 'Santa Catarina']\n",
            "\n",
            "----------------------------------------------------------------------\n",
            "----------------------------------------------------------------------\n",
            "             Valores únicos para o atributo macro_grupo:              \n",
            "----------------------------------------------------------------------\n",
            "\n",
            "['Brasil' 'Centro-Oeste' 'Nordeste' 'Norte' 'Sudeste' 'Sul']\n",
            "\n",
            "----------------------------------------------------------------------\n",
            "----------------------------------------------------------------------\n",
            "                 Valores únicos para o atributo ano:                  \n",
            "----------------------------------------------------------------------\n",
            "\n",
            "[2013 2014 2015 2016 2017 2018 2019 2020 2021 2022]\n",
            "\n",
            "----------------------------------------------------------------------\n",
            "----------------------------------------------------------------------\n",
            "          Valores únicos para o atributo tipo_de_informacao:          \n",
            "----------------------------------------------------------------------\n",
            "\n",
            "['Cap. Instalada (MW)' 'Geração (GWh)']\n",
            "\n",
            "----------------------------------------------------------------------\n",
            "----------------------------------------------------------------------\n",
            "                Valores únicos para o atributo total:                 \n",
            "----------------------------------------------------------------------\n",
            "\n",
            "[1.26743303e+05 5.70834647e+05 1.33912521e+05 5.90542339e+05\n",
            " 1.40857748e+05 5.81486091e+05 1.50337577e+05 5.78898256e+05\n",
            " 1.57112176e+05 5.87961724e+05 1.62840080e+05 6.01396488e+05\n",
            " 1.70118010e+05 6.26324349e+05 1.74736520e+05 6.21218753e+05\n",
            " 1.81609728e+05 6.56109157e+05 1.89126594e+05 6.77436870e+05\n",
            " 4.70060000e+01 1.29214009e+02 4.73799100e+01 1.27053057e+02\n",
            " 5.33240000e+01 1.19157618e+02 4.73240000e+01 8.49254047e+01\n",
            " 4.73935087e+01 6.69455472e+01 4.76240000e+01 9.84161897e+01\n",
            " 3.76200000e+01 1.14895198e+02 1.76284520e+02 4.04740000e+01\n",
            " 1.91923378e+02 4.13860000e+01 3.17115910e+02 7.73608420e+03\n",
            " 3.12122382e+04 7.86557688e+03 3.11155173e+04 7.94440540e+03\n",
            " 2.68691986e+04 8.07756434e+03 2.41354496e+04 8.16395753e+03\n",
            " 2.13750105e+04 8.24145098e+03 2.50575962e+04 8.27380000e+03\n",
            " 2.64556780e+04 8.29360000e+03 2.96850741e+04 8.27550280e+03\n",
            " 2.26040365e+04 8.32410320e+03 2.50735934e+04 2.72756882e+03\n",
            " 1.23608953e+04 2.75191594e+03 1.42609255e+04 3.56900160e+03\n",
            " 1.42527916e+04 4.80760810e+03 1.34275570e+04 5.03512268e+03\n",
            " 1.99517628e+04 5.52555078e+03 2.35129813e+04 6.31500000e+03\n",
            " 2.67722104e+04 6.35556000e+03 2.45669866e+04 5.60308620e+03\n",
            " 2.32361400e+04 5.75262640e+03 2.42081560e+04 5.41225301e+03\n",
            " 2.52805288e+04 5.47387565e+03 2.43437724e+04 5.70095238e+03\n",
            " 2.36105565e+04 5.64452938e+03 2.43031718e+04 5.98027750e+03\n",
            " 2.41293953e+04 5.83837639e+03 2.52092454e+04 5.85516000e+03\n",
            " 2.54578170e+04 5.86876000e+03 2.54794077e+04 6.12187139e+03\n",
            " 2.26775109e+04 6.16071593e+03 2.20340082e+04 4.02848100e+03\n",
            " 1.30291097e+04 4.04728100e+03 1.13754127e+04 4.02313100e+03\n",
            " 1.00517215e+04 4.04173100e+03 8.50402049e+03 4.04399974e+03\n",
            " 6.13765604e+03 4.05874850e+03 5.94958150e+03 4.05142000e+03\n",
            " 8.21110777e+03 4.05137000e+03 1.39759803e+04 4.05201820e+03\n",
            " 1.02545468e+04 4.05531820e+03 1.52384622e+04 7.00581220e+03\n",
            " 2.24157077e+04 7.63505904e+03 2.31033766e+04 8.01569658e+03\n",
            " 2.22888795e+04 8.52901458e+03 2.12786593e+04 9.38091292e+03\n",
            " 2.18271544e+04 1.06312754e+04 2.59113460e+04 1.12723900e+04\n",
            " 3.23421168e+04 1.18201700e+04 3.78670981e+04 1.32232807e+04\n",
            " 4.04901790e+04 1.45160057e+04 5.03685524e+04 2.60724992e+03\n",
            " 1.03960653e+04 3.17224508e+03 1.59567526e+04 3.21267180e+03\n",
            " 1.65192337e+04 3.48527300e+03 1.43432809e+04 3.71501709e+03\n",
            " 1.55471715e+04 4.36379400e+03 1.29566563e+04 4.44479000e+03\n",
            " 1.43959403e+04 4.57872000e+03 1.03453053e+04 5.17624600e+03\n",
            " 1.66088183e+04 5.35881932e+03 9.87289667e+03 2.36562286e+03\n",
            " 1.11806087e+04 2.72268009e+03 1.59715723e+04 2.64248663e+03\n",
            " 1.37810999e+04 3.15509063e+03 1.47409894e+04 3.38804079e+03\n",
            " 1.44003058e+04 3.41810363e+03 1.32094326e+04 3.59050000e+03\n",
            " 1.32091770e+04 3.57331000e+03 1.36336053e+04 3.57395983e+03\n",
            " 1.84453517e+04 3.94328483e+03 1.11390183e+04 6.41470000e+02\n",
            " 1.85430095e+03 6.41475950e+02 3.43450263e+03 3.35594030e+03\n",
            " 6.53470000e+02 1.49625223e+03 7.74979181e+02 1.89475535e+03\n",
            " 8.53970000e+02 1.83804163e+03 8.85250000e+02 1.56998972e+03\n",
            " 9.09370000e+02 1.50147988e+03 1.35227860e+03 3.43418574e+03\n",
            " 1.72906760e+03 3.48583664e+03 2.65520173e+03 9.73324723e+03\n",
            " 2.66650582e+03 1.27140877e+04 3.07936545e+03 1.10324425e+04\n",
            " 3.36387490e+03 1.09977036e+04 3.50008317e+03 1.17674241e+04\n",
            " 3.48722984e+03 1.05701407e+04 3.50972000e+03 1.01660275e+04\n",
            " 3.56726000e+03 1.01510514e+04 3.78771684e+03 1.28405922e+04\n",
            " 4.06053929e+03 9.44306151e+03 1.99464800e+02 7.30979521e+02\n",
            " 2.69464800e+02 9.90441411e+02 6.84564800e+02 1.44429796e+03\n",
            " 1.06666480e+03 3.61937329e+03 1.83423029e+03 5.55208273e+03\n",
            " 2.08436480e+03 7.06753877e+03 2.08436000e+03 7.76476145e+03\n",
            " 3.26307000e+03 8.17188339e+03 3.64287280e+03 1.14993823e+04\n",
            " 4.76868480e+03 1.46841390e+04 9.30251000e+02 3.75598139e+03\n",
            " 2.13505393e+03 7.01156939e+03 2.88021582e+03 1.05459501e+04\n",
            " 3.80155604e+03 1.37661233e+04 4.16066311e+03 1.59222549e+04\n",
            " 4.45865619e+03 1.60520492e+04 4.76552000e+03 1.62732618e+04\n",
            " 5.41530000e+03 1.78963669e+04 6.91985849e+03 2.41037301e+04\n",
            " 7.72414849e+03 2.59337033e+04 1.70327940e+03 6.76024040e+03\n",
            " 5.89639873e+03 1.70347940e+03 5.23323409e+03 1.70627940e+03\n",
            " 4.33302730e+03 1.70700545e+03 2.97904819e+03 1.70696740e+03\n",
            " 2.83419628e+03 1.70697000e+03 4.18618193e+03 3.22261000e+03\n",
            " 8.01468154e+03 3.22316740e+03 9.86097144e+03 3.30152640e+03\n",
            " 8.76064843e+03 1.88569100e+02 2.33794341e+02 2.50423456e+02\n",
            " 1.94069100e+02 2.80567541e+02 2.58987900e+02 2.40656605e+02\n",
            " 2.46568140e+02 1.88849726e+02 1.11084600e+02 2.42271654e+02\n",
            " 1.11900000e+02 2.52421390e+02 6.80600000e+01 2.57108189e+02\n",
            " 6.87756000e+01 2.65098064e+02 6.94726000e+01 3.02344102e+02\n",
            " 3.61308000e+02 1.81578718e+03 7.23604000e+02 1.93307660e+03\n",
            " 8.42059140e+02 2.38024414e+03 8.83297000e+02 1.89133678e+03\n",
            " 8.98000950e+02 2.65985594e+03 7.50511200e+02 3.16102817e+03\n",
            " 7.04910000e+02 3.19167405e+03 7.94910000e+02 2.64546404e+03\n",
            " 8.72911200e+02 4.18752513e+03 7.64720200e+02 3.83559508e+03\n",
            " 2.47536300e+03 9.96971923e+03 2.29934200e+03 8.94555920e+03\n",
            " 2.33424922e+03 9.14256371e+03 2.31508404e+03 6.69928308e+03\n",
            " 2.26975035e+03 7.06982996e+03 2.18842164e+03 8.81301371e+03\n",
            " 2.33762000e+03 1.04545958e+04 2.33771000e+03 1.08107572e+04\n",
            " 2.34419394e+03 1.13117789e+04 2.00533428e+03 9.51214530e+03\n",
            " 9.13602800e+03 4.11913717e+04 9.20747380e+03 4.19512278e+04\n",
            " 9.25343173e+03 3.83035920e+04 1.12685863e+04 3.17736089e+04\n",
            " 1.38166723e+04 4.30017767e+04 1.69092697e+04 5.41416150e+04\n",
            " 2.05209900e+04 5.86276533e+04 2.04866600e+04 6.07933610e+04\n",
            " 2.11860346e+04 7.11352032e+04 2.12088896e+04 7.67144496e+04\n",
            " 2.16454048e+03 6.40690797e+03 4.77042348e+03 1.51478649e+04\n",
            " 6.30567348e+03 2.64634009e+04 8.02239836e+03 2.31629925e+04\n",
            " 8.35821456e+03 3.42381637e+04 8.30665860e+03 3.66250821e+04\n",
            " 8.31612000e+03 3.90640530e+04 8.34016000e+03 3.52403498e+04\n",
            " 8.37098110e+03 3.76043986e+04 8.38665988e+03 3.46650118e+04\n",
            " 9.93180000e+01 1.69353733e+02 1.19205200e+02 2.44638114e+02\n",
            " 1.21840400e+02 1.93697671e+02 2.56601200e+02 1.56150458e+02\n",
            " 2.68027036e+02 1.19596960e+02 2.83809180e+02 3.01896945e+02\n",
            " 3.41950000e+02 1.10234472e+03 3.45230000e+02 1.26186189e+03\n",
            " 3.40629580e+02 1.22917200e+03 5.76637200e+02 1.36740667e+03\n",
            " 2.44390000e+03 1.18806822e+04 2.44553171e+03 1.22279249e+04\n",
            " 2.44606400e+03 1.03470230e+04 2.45566400e+03 8.28152181e+03\n",
            " 2.45347311e+03 7.48430843e+03 2.46057100e+03 9.30770159e+03\n",
            " 2.47361000e+03 8.37306612e+03 2.48182000e+03 1.03831801e+04\n",
            " 2.48962800e+03 1.04258109e+04 2.48968740e+03 1.07689923e+04\n",
            " 1.55781500e+03 8.46367707e+03 1.55543547e+03 1.03520427e+04\n",
            " 1.55782500e+03 9.75690626e+03 1.55525250e+03 9.17938983e+03\n",
            " 1.58139974e+03 7.98969660e+03 1.60926250e+03 9.47217869e+03\n",
            " 1.61040000e+03 8.45705482e+03 1.01405575e+04 1.01448444e+04\n",
            " 1.30214027e+04 1.77607675e+03 1.15280275e+04 1.42544221e+04\n",
            " 5.40133050e+04 1.45229593e+04 4.61336849e+04 1.47920779e+04\n",
            " 3.76953412e+04 1.48097681e+04 4.70696027e+04 1.51553578e+04\n",
            " 4.49216913e+04 1.54154003e+04 4.42389634e+04 1.56094400e+04\n",
            " 5.31080557e+04 1.57244900e+04 6.22496189e+04 1.62622677e+03\n",
            " 4.70496146e+04 1.71384671e+04 5.69137855e+04 8.24276816e+03\n",
            " 5.59210366e+04 8.56757125e+03 5.92983862e+04 8.26919740e+03\n",
            " 5.81946159e+04 8.91551247e+03 5.07277622e+04 8.91556098e+03\n",
            " 5.79651369e+04 8.74431357e+03 5.14963156e+04 8.79412000e+03\n",
            " 5.17248386e+04 8.83338000e+03 4.79400501e+04 2.08993109e+04\n",
            " 6.67426099e+04 1.05875061e+04 4.68326187e+04 1.81493291e+04\n",
            " 7.55172541e+04 1.84854208e+04 6.55068806e+04 1.94926668e+04\n",
            " 6.26537838e+04 1.95311141e+04 7.34604845e+04 1.95600786e+04\n",
            " 7.25760763e+04 1.98287234e+04 6.64946704e+04 2.01655100e+04\n",
            " 6.87176123e+04 2.02719900e+04 6.86066506e+04 1.56425912e+04\n",
            " 5.76589225e+04 2.12527263e+04 6.00246165e+04 1.72300615e+04\n",
            " 1.03446603e+05 1.72189625e+04 9.87972362e+04 1.72536989e+04\n",
            " 9.94099930e+04 1.77582080e+04 1.09879839e+05 1.76781045e+04\n",
            " 9.68165649e+04 1.77531270e+04 9.37369141e+04 1.81632600e+04\n",
            " 8.17326810e+04 1.81779500e+04 6.67276444e+04 1.81919926e+04\n",
            " 6.95904503e+04 1.85190098e+04 8.59759546e+04 7.00294310e+03\n",
            " 2.73058418e+04 7.25478617e+03 3.40355748e+04 8.38979858e+03\n",
            " 3.63023564e+04 8.45309643e+03 3.32286507e+04 8.60927338e+03\n",
            " 3.02296119e+04 8.14188766e+03 3.06727089e+04 8.51395000e+03\n",
            " 3.16286285e+04 8.58269000e+03 2.61066089e+04 8.62175804e+03\n",
            " 2.90373576e+04 8.66200965e+03 3.16433375e+04 5.37719260e+03\n",
            " 2.56601966e+04 5.42144289e+03 2.94164360e+04 5.45433190e+03\n",
            " 3.12575016e+04 5.47402668e+03 2.81164435e+04 5.57001152e+03\n",
            " 2.11495979e+04 5.62092759e+03 2.24249055e+04 5.66173000e+03\n",
            " 2.29705052e+04 5.72435000e+03 1.65903354e+04 5.81751686e+03\n",
            " 2.06024438e+04 5.95317060e+03 2.67933931e+04]\n",
            "\n",
            "----------------------------------------------------------------------\n"
          ]
        }
      ]
    },
    {
      "cell_type": "markdown",
      "source": [
        "## Transformação\n",
        "Aqui os dados extraídos precisam ser transformados em um formato adequado para análise, e para isso deve seguir alguns passos, que podem precisar serem repetidos ao longo do processo de análise."
      ],
      "metadata": {
        "id": "VbLM1jZ51glR"
      }
    },
    {
      "cell_type": "markdown",
      "source": [
        "### Limpeza de Dados\n",
        "Remover dados duplicados, corrigir erros de digitação, tratar dados inconsistentes etc."
      ],
      "metadata": {
        "id": "2OIPr02e1w5B"
      }
    },
    {
      "cell_type": "code",
      "source": [
        "# Verificar se há valores duplicados\n",
        "df.duplicated()"
      ],
      "metadata": {
        "id": "Bbj-7zCn2Fee",
        "colab": {
          "base_uri": "https://localhost:8080/"
        },
        "outputId": "5fe11b39-2ba9-4f62-b213-21aaa561b26c"
      },
      "execution_count": 19,
      "outputs": [
        {
          "output_type": "execute_result",
          "data": {
            "text/plain": [
              "0      False\n",
              "1      False\n",
              "2      False\n",
              "3      False\n",
              "4      False\n",
              "       ...  \n",
              "555    False\n",
              "556    False\n",
              "557    False\n",
              "558    False\n",
              "559    False\n",
              "Length: 560, dtype: bool"
            ]
          },
          "metadata": {},
          "execution_count": 19
        }
      ]
    },
    {
      "cell_type": "code",
      "source": [
        "# Verificar se há valores nulos/ausentes\n",
        "df.isnull().sum()"
      ],
      "metadata": {
        "id": "ByCYsxjVrNy4",
        "colab": {
          "base_uri": "https://localhost:8080/"
        },
        "outputId": "00091286-8211-4fa6-83d2-37d09f454cfb"
      },
      "execution_count": 20,
      "outputs": [
        {
          "output_type": "execute_result",
          "data": {
            "text/plain": [
              "grupo                 0\n",
              "macro_grupo           0\n",
              "ano                   0\n",
              "tipo_de_informacao    0\n",
              "total                 0\n",
              "dtype: int64"
            ]
          },
          "metadata": {},
          "execution_count": 20
        }
      ]
    },
    {
      "cell_type": "code",
      "source": [
        "# Verificando os valores presentes na coluna para identificar inconsistencias\n",
        "#print(f'Valores presentes em coluna1: {pd.unique(df.coluna1)}')"
      ],
      "metadata": {
        "id": "VbHkWtWwZpg-"
      },
      "execution_count": 21,
      "outputs": []
    },
    {
      "cell_type": "code",
      "source": [
        "# Descartando colunas\n",
        "# df.drop(['coluna1',], axis=1, inplace=True)"
      ],
      "metadata": {
        "id": "pc-JlvQ098n5"
      },
      "execution_count": 22,
      "outputs": []
    },
    {
      "cell_type": "code",
      "source": [
        "#Backup\n",
        "backup_bruto = df.copy()"
      ],
      "metadata": {
        "id": "rX4pVyz0G2NP"
      },
      "execution_count": 23,
      "outputs": []
    },
    {
      "cell_type": "markdown",
      "source": [
        "### Normalização de Dados\n",
        "Colocar os dados em um formato padronizado para facilitar a análise."
      ],
      "metadata": {
        "id": "FG2L2jSi2Alp"
      }
    },
    {
      "cell_type": "markdown",
      "source": [
        "Tipagem"
      ],
      "metadata": {
        "id": "wvAVi48v-O2s"
      }
    },
    {
      "cell_type": "code",
      "source": [
        "#Criando um dataframe para realizar normalização dos dados\n",
        "df_analise = df.copy()"
      ],
      "metadata": {
        "id": "4HEkhOOIHFq_"
      },
      "execution_count": 24,
      "outputs": []
    },
    {
      "cell_type": "code",
      "source": [
        "# Convertendo a coluna 'ano' para datetime\n",
        "df_analise['ano'] = pd.to_datetime(df_analise['ano'], format='%Y')"
      ],
      "metadata": {
        "id": "Xab0KVoeIQRN"
      },
      "execution_count": 25,
      "outputs": []
    },
    {
      "cell_type": "code",
      "source": [
        "# Extraindo o ano usando o atributo .dt.year\n",
        "df_analise.ano.astype('datetime64[ns]')\n",
        "df_analise.ano.dt.year"
      ],
      "metadata": {
        "colab": {
          "base_uri": "https://localhost:8080/"
        },
        "id": "Aa7dU9NtHe_F",
        "outputId": "665a38f8-c323-476a-8f3d-2057ca2a7343"
      },
      "execution_count": 26,
      "outputs": [
        {
          "output_type": "execute_result",
          "data": {
            "text/plain": [
              "0      2013\n",
              "1      2013\n",
              "2      2014\n",
              "3      2014\n",
              "4      2015\n",
              "       ... \n",
              "555    2020\n",
              "556    2021\n",
              "557    2021\n",
              "558    2022\n",
              "559    2022\n",
              "Name: ano, Length: 560, dtype: int64"
            ]
          },
          "metadata": {},
          "execution_count": 26
        }
      ]
    },
    {
      "cell_type": "code",
      "source": [
        "df_analise.info()"
      ],
      "metadata": {
        "colab": {
          "base_uri": "https://localhost:8080/"
        },
        "id": "XC2AvxENIUiL",
        "outputId": "d7b41817-879e-45df-98c4-8f52104d29c5"
      },
      "execution_count": 27,
      "outputs": [
        {
          "output_type": "stream",
          "name": "stdout",
          "text": [
            "<class 'pandas.core.frame.DataFrame'>\n",
            "RangeIndex: 560 entries, 0 to 559\n",
            "Data columns (total 5 columns):\n",
            " #   Column              Non-Null Count  Dtype         \n",
            "---  ------              --------------  -----         \n",
            " 0   grupo               560 non-null    object        \n",
            " 1   macro_grupo         560 non-null    object        \n",
            " 2   ano                 560 non-null    datetime64[ns]\n",
            " 3   tipo_de_informacao  560 non-null    object        \n",
            " 4   total               560 non-null    float64       \n",
            "dtypes: datetime64[ns](1), float64(1), object(3)\n",
            "memory usage: 22.0+ KB\n"
          ]
        }
      ]
    },
    {
      "cell_type": "markdown",
      "source": [
        "Tradução"
      ],
      "metadata": {
        "id": "PlcatBQq-QkD"
      }
    },
    {
      "cell_type": "code",
      "source": [
        "# Renomeando/Traduzindo colunas\n",
        "#df.rename(columns={'grupo':'traducao',}, inplace=True)"
      ],
      "metadata": {
        "id": "RnynpUhG1KZd"
      },
      "execution_count": 28,
      "outputs": []
    },
    {
      "cell_type": "code",
      "source": [
        "# Examinando se as colunas foram alteradas\n",
        "df.dtypes"
      ],
      "metadata": {
        "id": "YSCe0djotK4u",
        "colab": {
          "base_uri": "https://localhost:8080/"
        },
        "outputId": "50c70af9-184a-4772-f22c-648996966341"
      },
      "execution_count": 29,
      "outputs": [
        {
          "output_type": "execute_result",
          "data": {
            "text/plain": [
              "grupo                  object\n",
              "macro_grupo            object\n",
              "ano                     int64\n",
              "tipo_de_informacao     object\n",
              "total                 float64\n",
              "dtype: object"
            ]
          },
          "metadata": {},
          "execution_count": 29
        }
      ]
    },
    {
      "cell_type": "code",
      "source": [
        "# Renomeando nomes de colunas\n",
        "\n",
        "traducao = {\n",
        "    'grupo': 'Grupo',\n",
        "    'macro_grupo': 'Macro_grupo',\n",
        "    'ano':'Ano',\n",
        "    'tipo_de_informacao':'Tipo_de_informacao',\n",
        "    'total': 'Total',\n",
        "}\n",
        "df_analise.rename(columns=traducao,inplace=True)"
      ],
      "metadata": {
        "id": "PPPWrxZi7HFW"
      },
      "execution_count": 30,
      "outputs": []
    },
    {
      "cell_type": "code",
      "source": [
        "#Visualização do cabeçalho após a normalização\n",
        "df_analise.head(1)"
      ],
      "metadata": {
        "colab": {
          "base_uri": "https://localhost:8080/",
          "height": 81
        },
        "id": "nr2547P6J5UE",
        "outputId": "5172fb40-0644-469c-f47f-d7b6a6112215"
      },
      "execution_count": 31,
      "outputs": [
        {
          "output_type": "execute_result",
          "data": {
            "text/plain": [
              "    Grupo Macro_grupo        Ano   Tipo_de_informacao         Total\n",
              "0  Brasil      Brasil 2013-01-01  Cap. Instalada (MW)  126743.30306"
            ],
            "text/html": [
              "\n",
              "\n",
              "  <div id=\"df-de227c8c-744c-49fd-91b0-9a58f70073ce\">\n",
              "    <div class=\"colab-df-container\">\n",
              "      <div>\n",
              "<style scoped>\n",
              "    .dataframe tbody tr th:only-of-type {\n",
              "        vertical-align: middle;\n",
              "    }\n",
              "\n",
              "    .dataframe tbody tr th {\n",
              "        vertical-align: top;\n",
              "    }\n",
              "\n",
              "    .dataframe thead th {\n",
              "        text-align: right;\n",
              "    }\n",
              "</style>\n",
              "<table border=\"1\" class=\"dataframe\">\n",
              "  <thead>\n",
              "    <tr style=\"text-align: right;\">\n",
              "      <th></th>\n",
              "      <th>Grupo</th>\n",
              "      <th>Macro_grupo</th>\n",
              "      <th>Ano</th>\n",
              "      <th>Tipo_de_informacao</th>\n",
              "      <th>Total</th>\n",
              "    </tr>\n",
              "  </thead>\n",
              "  <tbody>\n",
              "    <tr>\n",
              "      <th>0</th>\n",
              "      <td>Brasil</td>\n",
              "      <td>Brasil</td>\n",
              "      <td>2013-01-01</td>\n",
              "      <td>Cap. Instalada (MW)</td>\n",
              "      <td>126743.30306</td>\n",
              "    </tr>\n",
              "  </tbody>\n",
              "</table>\n",
              "</div>\n",
              "      <button class=\"colab-df-convert\" onclick=\"convertToInteractive('df-de227c8c-744c-49fd-91b0-9a58f70073ce')\"\n",
              "              title=\"Convert this dataframe to an interactive table.\"\n",
              "              style=\"display:none;\">\n",
              "\n",
              "  <svg xmlns=\"http://www.w3.org/2000/svg\" height=\"24px\"viewBox=\"0 0 24 24\"\n",
              "       width=\"24px\">\n",
              "    <path d=\"M0 0h24v24H0V0z\" fill=\"none\"/>\n",
              "    <path d=\"M18.56 5.44l.94 2.06.94-2.06 2.06-.94-2.06-.94-.94-2.06-.94 2.06-2.06.94zm-11 1L8.5 8.5l.94-2.06 2.06-.94-2.06-.94L8.5 2.5l-.94 2.06-2.06.94zm10 10l.94 2.06.94-2.06 2.06-.94-2.06-.94-.94-2.06-.94 2.06-2.06.94z\"/><path d=\"M17.41 7.96l-1.37-1.37c-.4-.4-.92-.59-1.43-.59-.52 0-1.04.2-1.43.59L10.3 9.45l-7.72 7.72c-.78.78-.78 2.05 0 2.83L4 21.41c.39.39.9.59 1.41.59.51 0 1.02-.2 1.41-.59l7.78-7.78 2.81-2.81c.8-.78.8-2.07 0-2.86zM5.41 20L4 18.59l7.72-7.72 1.47 1.35L5.41 20z\"/>\n",
              "  </svg>\n",
              "      </button>\n",
              "\n",
              "\n",
              "\n",
              "    <div id=\"df-3031d974-65e4-4f33-b787-64c1b5b561f9\">\n",
              "      <button class=\"colab-df-quickchart\" onclick=\"quickchart('df-3031d974-65e4-4f33-b787-64c1b5b561f9')\"\n",
              "              title=\"Suggest charts.\"\n",
              "              style=\"display:none;\">\n",
              "\n",
              "<svg xmlns=\"http://www.w3.org/2000/svg\" height=\"24px\"viewBox=\"0 0 24 24\"\n",
              "     width=\"24px\">\n",
              "    <g>\n",
              "        <path d=\"M19 3H5c-1.1 0-2 .9-2 2v14c0 1.1.9 2 2 2h14c1.1 0 2-.9 2-2V5c0-1.1-.9-2-2-2zM9 17H7v-7h2v7zm4 0h-2V7h2v10zm4 0h-2v-4h2v4z\"/>\n",
              "    </g>\n",
              "</svg>\n",
              "      </button>\n",
              "    </div>\n",
              "\n",
              "<style>\n",
              "  .colab-df-quickchart {\n",
              "    background-color: #E8F0FE;\n",
              "    border: none;\n",
              "    border-radius: 50%;\n",
              "    cursor: pointer;\n",
              "    display: none;\n",
              "    fill: #1967D2;\n",
              "    height: 32px;\n",
              "    padding: 0 0 0 0;\n",
              "    width: 32px;\n",
              "  }\n",
              "\n",
              "  .colab-df-quickchart:hover {\n",
              "    background-color: #E2EBFA;\n",
              "    box-shadow: 0px 1px 2px rgba(60, 64, 67, 0.3), 0px 1px 3px 1px rgba(60, 64, 67, 0.15);\n",
              "    fill: #174EA6;\n",
              "  }\n",
              "\n",
              "  [theme=dark] .colab-df-quickchart {\n",
              "    background-color: #3B4455;\n",
              "    fill: #D2E3FC;\n",
              "  }\n",
              "\n",
              "  [theme=dark] .colab-df-quickchart:hover {\n",
              "    background-color: #434B5C;\n",
              "    box-shadow: 0px 1px 3px 1px rgba(0, 0, 0, 0.15);\n",
              "    filter: drop-shadow(0px 1px 2px rgba(0, 0, 0, 0.3));\n",
              "    fill: #FFFFFF;\n",
              "  }\n",
              "</style>\n",
              "\n",
              "    <script>\n",
              "      async function quickchart(key) {\n",
              "        const containerElement = document.querySelector('#' + key);\n",
              "        const charts = await google.colab.kernel.invokeFunction(\n",
              "            'suggestCharts', [key], {});\n",
              "      }\n",
              "    </script>\n",
              "\n",
              "      <script>\n",
              "\n",
              "function displayQuickchartButton(domScope) {\n",
              "  let quickchartButtonEl =\n",
              "    domScope.querySelector('#df-3031d974-65e4-4f33-b787-64c1b5b561f9 button.colab-df-quickchart');\n",
              "  quickchartButtonEl.style.display =\n",
              "    google.colab.kernel.accessAllowed ? 'block' : 'none';\n",
              "}\n",
              "\n",
              "        displayQuickchartButton(document);\n",
              "      </script>\n",
              "      <style>\n",
              "    .colab-df-container {\n",
              "      display:flex;\n",
              "      flex-wrap:wrap;\n",
              "      gap: 12px;\n",
              "    }\n",
              "\n",
              "    .colab-df-convert {\n",
              "      background-color: #E8F0FE;\n",
              "      border: none;\n",
              "      border-radius: 50%;\n",
              "      cursor: pointer;\n",
              "      display: none;\n",
              "      fill: #1967D2;\n",
              "      height: 32px;\n",
              "      padding: 0 0 0 0;\n",
              "      width: 32px;\n",
              "    }\n",
              "\n",
              "    .colab-df-convert:hover {\n",
              "      background-color: #E2EBFA;\n",
              "      box-shadow: 0px 1px 2px rgba(60, 64, 67, 0.3), 0px 1px 3px 1px rgba(60, 64, 67, 0.15);\n",
              "      fill: #174EA6;\n",
              "    }\n",
              "\n",
              "    [theme=dark] .colab-df-convert {\n",
              "      background-color: #3B4455;\n",
              "      fill: #D2E3FC;\n",
              "    }\n",
              "\n",
              "    [theme=dark] .colab-df-convert:hover {\n",
              "      background-color: #434B5C;\n",
              "      box-shadow: 0px 1px 3px 1px rgba(0, 0, 0, 0.15);\n",
              "      filter: drop-shadow(0px 1px 2px rgba(0, 0, 0, 0.3));\n",
              "      fill: #FFFFFF;\n",
              "    }\n",
              "  </style>\n",
              "\n",
              "      <script>\n",
              "        const buttonEl =\n",
              "          document.querySelector('#df-de227c8c-744c-49fd-91b0-9a58f70073ce button.colab-df-convert');\n",
              "        buttonEl.style.display =\n",
              "          google.colab.kernel.accessAllowed ? 'block' : 'none';\n",
              "\n",
              "        async function convertToInteractive(key) {\n",
              "          const element = document.querySelector('#df-de227c8c-744c-49fd-91b0-9a58f70073ce');\n",
              "          const dataTable =\n",
              "            await google.colab.kernel.invokeFunction('convertToInteractive',\n",
              "                                                     [key], {});\n",
              "          if (!dataTable) return;\n",
              "\n",
              "          const docLinkHtml = 'Like what you see? Visit the ' +\n",
              "            '<a target=\"_blank\" href=https://colab.research.google.com/notebooks/data_table.ipynb>data table notebook</a>'\n",
              "            + ' to learn more about interactive tables.';\n",
              "          element.innerHTML = '';\n",
              "          dataTable['output_type'] = 'display_data';\n",
              "          await google.colab.output.renderOutput(dataTable, element);\n",
              "          const docLink = document.createElement('div');\n",
              "          docLink.innerHTML = docLinkHtml;\n",
              "          element.appendChild(docLink);\n",
              "        }\n",
              "      </script>\n",
              "    </div>\n",
              "  </div>\n"
            ]
          },
          "metadata": {},
          "execution_count": 31
        }
      ]
    },
    {
      "cell_type": "code",
      "source": [
        "# Examinando se os registros foram alterados\n",
        "#pd.unique(df.traducao)"
      ],
      "metadata": {
        "id": "cU-SFkb14MWN"
      },
      "execution_count": 32,
      "outputs": []
    },
    {
      "cell_type": "markdown",
      "source": [
        "# **Qualidade e integridade dos dados**"
      ],
      "metadata": {
        "id": "j6krOtKKvkR-"
      }
    },
    {
      "cell_type": "markdown",
      "source": [
        "### **Validação da estrutura dos dados (schema)**"
      ],
      "metadata": {
        "id": "S03P8PdZwETm"
      }
    },
    {
      "cell_type": "code",
      "source": [
        "df_analise.info()"
      ],
      "metadata": {
        "colab": {
          "base_uri": "https://localhost:8080/"
        },
        "id": "Hj44LvsPK0tF",
        "outputId": "406d368d-1b2a-42b1-9f42-0fd4c02fc667"
      },
      "execution_count": 33,
      "outputs": [
        {
          "output_type": "stream",
          "name": "stdout",
          "text": [
            "<class 'pandas.core.frame.DataFrame'>\n",
            "RangeIndex: 560 entries, 0 to 559\n",
            "Data columns (total 5 columns):\n",
            " #   Column              Non-Null Count  Dtype         \n",
            "---  ------              --------------  -----         \n",
            " 0   Grupo               560 non-null    object        \n",
            " 1   Macro_grupo         560 non-null    object        \n",
            " 2   Ano                 560 non-null    datetime64[ns]\n",
            " 3   Tipo_de_informacao  560 non-null    object        \n",
            " 4   Total               560 non-null    float64       \n",
            "dtypes: datetime64[ns](1), float64(1), object(3)\n",
            "memory usage: 22.0+ KB\n"
          ]
        }
      ]
    },
    {
      "cell_type": "code",
      "source": [
        "# Definindo o esquema de validação e o examinando\n",
        "schema = pa.DataFrameSchema({\n",
        "    'Grupo': pa.Column(pa.String),\n",
        "    'Macro_grupo': pa.Column(pa.String),\n",
        "    'Ano': pa.Column(pa.DateTime),\n",
        "    'Tipo_de_informacao': pa.Column(pa.String),\n",
        "    'Total': pa.Column(pa.Float)\n",
        "})\n",
        "\n",
        "schema.validate(df_analise)"
      ],
      "metadata": {
        "id": "pSPVby2swCzm",
        "colab": {
          "base_uri": "https://localhost:8080/",
          "height": 423
        },
        "outputId": "2557fd8c-373f-4210-a7e1-064732bca64a"
      },
      "execution_count": 34,
      "outputs": [
        {
          "output_type": "execute_result",
          "data": {
            "text/plain": [
              "              Grupo Macro_grupo        Ano   Tipo_de_informacao          Total\n",
              "0            Brasil      Brasil 2013-01-01  Cap. Instalada (MW)  126743.303060\n",
              "1            Brasil      Brasil 2013-01-01        Geração (GWh)  570834.647328\n",
              "2            Brasil      Brasil 2014-01-01  Cap. Instalada (MW)  133912.521110\n",
              "3            Brasil      Brasil 2014-01-01        Geração (GWh)  590542.338656\n",
              "4            Brasil      Brasil 2015-01-01  Cap. Instalada (MW)  140857.748378\n",
              "..              ...         ...        ...                  ...            ...\n",
              "555  Santa Catarina         Sul 2020-01-01        Geração (GWh)   16590.335429\n",
              "556  Santa Catarina         Sul 2021-01-01  Cap. Instalada (MW)    5817.516860\n",
              "557  Santa Catarina         Sul 2021-01-01        Geração (GWh)   20602.443775\n",
              "558  Santa Catarina         Sul 2022-01-01  Cap. Instalada (MW)    5953.170600\n",
              "559  Santa Catarina         Sul 2022-01-01        Geração (GWh)   26793.393078\n",
              "\n",
              "[560 rows x 5 columns]"
            ],
            "text/html": [
              "\n",
              "\n",
              "  <div id=\"df-0825e6df-cf4a-481b-b305-6f141d0f5f3e\">\n",
              "    <div class=\"colab-df-container\">\n",
              "      <div>\n",
              "<style scoped>\n",
              "    .dataframe tbody tr th:only-of-type {\n",
              "        vertical-align: middle;\n",
              "    }\n",
              "\n",
              "    .dataframe tbody tr th {\n",
              "        vertical-align: top;\n",
              "    }\n",
              "\n",
              "    .dataframe thead th {\n",
              "        text-align: right;\n",
              "    }\n",
              "</style>\n",
              "<table border=\"1\" class=\"dataframe\">\n",
              "  <thead>\n",
              "    <tr style=\"text-align: right;\">\n",
              "      <th></th>\n",
              "      <th>Grupo</th>\n",
              "      <th>Macro_grupo</th>\n",
              "      <th>Ano</th>\n",
              "      <th>Tipo_de_informacao</th>\n",
              "      <th>Total</th>\n",
              "    </tr>\n",
              "  </thead>\n",
              "  <tbody>\n",
              "    <tr>\n",
              "      <th>0</th>\n",
              "      <td>Brasil</td>\n",
              "      <td>Brasil</td>\n",
              "      <td>2013-01-01</td>\n",
              "      <td>Cap. Instalada (MW)</td>\n",
              "      <td>126743.303060</td>\n",
              "    </tr>\n",
              "    <tr>\n",
              "      <th>1</th>\n",
              "      <td>Brasil</td>\n",
              "      <td>Brasil</td>\n",
              "      <td>2013-01-01</td>\n",
              "      <td>Geração (GWh)</td>\n",
              "      <td>570834.647328</td>\n",
              "    </tr>\n",
              "    <tr>\n",
              "      <th>2</th>\n",
              "      <td>Brasil</td>\n",
              "      <td>Brasil</td>\n",
              "      <td>2014-01-01</td>\n",
              "      <td>Cap. Instalada (MW)</td>\n",
              "      <td>133912.521110</td>\n",
              "    </tr>\n",
              "    <tr>\n",
              "      <th>3</th>\n",
              "      <td>Brasil</td>\n",
              "      <td>Brasil</td>\n",
              "      <td>2014-01-01</td>\n",
              "      <td>Geração (GWh)</td>\n",
              "      <td>590542.338656</td>\n",
              "    </tr>\n",
              "    <tr>\n",
              "      <th>4</th>\n",
              "      <td>Brasil</td>\n",
              "      <td>Brasil</td>\n",
              "      <td>2015-01-01</td>\n",
              "      <td>Cap. Instalada (MW)</td>\n",
              "      <td>140857.748378</td>\n",
              "    </tr>\n",
              "    <tr>\n",
              "      <th>...</th>\n",
              "      <td>...</td>\n",
              "      <td>...</td>\n",
              "      <td>...</td>\n",
              "      <td>...</td>\n",
              "      <td>...</td>\n",
              "    </tr>\n",
              "    <tr>\n",
              "      <th>555</th>\n",
              "      <td>Santa Catarina</td>\n",
              "      <td>Sul</td>\n",
              "      <td>2020-01-01</td>\n",
              "      <td>Geração (GWh)</td>\n",
              "      <td>16590.335429</td>\n",
              "    </tr>\n",
              "    <tr>\n",
              "      <th>556</th>\n",
              "      <td>Santa Catarina</td>\n",
              "      <td>Sul</td>\n",
              "      <td>2021-01-01</td>\n",
              "      <td>Cap. Instalada (MW)</td>\n",
              "      <td>5817.516860</td>\n",
              "    </tr>\n",
              "    <tr>\n",
              "      <th>557</th>\n",
              "      <td>Santa Catarina</td>\n",
              "      <td>Sul</td>\n",
              "      <td>2021-01-01</td>\n",
              "      <td>Geração (GWh)</td>\n",
              "      <td>20602.443775</td>\n",
              "    </tr>\n",
              "    <tr>\n",
              "      <th>558</th>\n",
              "      <td>Santa Catarina</td>\n",
              "      <td>Sul</td>\n",
              "      <td>2022-01-01</td>\n",
              "      <td>Cap. Instalada (MW)</td>\n",
              "      <td>5953.170600</td>\n",
              "    </tr>\n",
              "    <tr>\n",
              "      <th>559</th>\n",
              "      <td>Santa Catarina</td>\n",
              "      <td>Sul</td>\n",
              "      <td>2022-01-01</td>\n",
              "      <td>Geração (GWh)</td>\n",
              "      <td>26793.393078</td>\n",
              "    </tr>\n",
              "  </tbody>\n",
              "</table>\n",
              "<p>560 rows × 5 columns</p>\n",
              "</div>\n",
              "      <button class=\"colab-df-convert\" onclick=\"convertToInteractive('df-0825e6df-cf4a-481b-b305-6f141d0f5f3e')\"\n",
              "              title=\"Convert this dataframe to an interactive table.\"\n",
              "              style=\"display:none;\">\n",
              "\n",
              "  <svg xmlns=\"http://www.w3.org/2000/svg\" height=\"24px\"viewBox=\"0 0 24 24\"\n",
              "       width=\"24px\">\n",
              "    <path d=\"M0 0h24v24H0V0z\" fill=\"none\"/>\n",
              "    <path d=\"M18.56 5.44l.94 2.06.94-2.06 2.06-.94-2.06-.94-.94-2.06-.94 2.06-2.06.94zm-11 1L8.5 8.5l.94-2.06 2.06-.94-2.06-.94L8.5 2.5l-.94 2.06-2.06.94zm10 10l.94 2.06.94-2.06 2.06-.94-2.06-.94-.94-2.06-.94 2.06-2.06.94z\"/><path d=\"M17.41 7.96l-1.37-1.37c-.4-.4-.92-.59-1.43-.59-.52 0-1.04.2-1.43.59L10.3 9.45l-7.72 7.72c-.78.78-.78 2.05 0 2.83L4 21.41c.39.39.9.59 1.41.59.51 0 1.02-.2 1.41-.59l7.78-7.78 2.81-2.81c.8-.78.8-2.07 0-2.86zM5.41 20L4 18.59l7.72-7.72 1.47 1.35L5.41 20z\"/>\n",
              "  </svg>\n",
              "      </button>\n",
              "\n",
              "\n",
              "\n",
              "    <div id=\"df-7d801ccc-6179-4786-979a-8023fcc85523\">\n",
              "      <button class=\"colab-df-quickchart\" onclick=\"quickchart('df-7d801ccc-6179-4786-979a-8023fcc85523')\"\n",
              "              title=\"Suggest charts.\"\n",
              "              style=\"display:none;\">\n",
              "\n",
              "<svg xmlns=\"http://www.w3.org/2000/svg\" height=\"24px\"viewBox=\"0 0 24 24\"\n",
              "     width=\"24px\">\n",
              "    <g>\n",
              "        <path d=\"M19 3H5c-1.1 0-2 .9-2 2v14c0 1.1.9 2 2 2h14c1.1 0 2-.9 2-2V5c0-1.1-.9-2-2-2zM9 17H7v-7h2v7zm4 0h-2V7h2v10zm4 0h-2v-4h2v4z\"/>\n",
              "    </g>\n",
              "</svg>\n",
              "      </button>\n",
              "    </div>\n",
              "\n",
              "<style>\n",
              "  .colab-df-quickchart {\n",
              "    background-color: #E8F0FE;\n",
              "    border: none;\n",
              "    border-radius: 50%;\n",
              "    cursor: pointer;\n",
              "    display: none;\n",
              "    fill: #1967D2;\n",
              "    height: 32px;\n",
              "    padding: 0 0 0 0;\n",
              "    width: 32px;\n",
              "  }\n",
              "\n",
              "  .colab-df-quickchart:hover {\n",
              "    background-color: #E2EBFA;\n",
              "    box-shadow: 0px 1px 2px rgba(60, 64, 67, 0.3), 0px 1px 3px 1px rgba(60, 64, 67, 0.15);\n",
              "    fill: #174EA6;\n",
              "  }\n",
              "\n",
              "  [theme=dark] .colab-df-quickchart {\n",
              "    background-color: #3B4455;\n",
              "    fill: #D2E3FC;\n",
              "  }\n",
              "\n",
              "  [theme=dark] .colab-df-quickchart:hover {\n",
              "    background-color: #434B5C;\n",
              "    box-shadow: 0px 1px 3px 1px rgba(0, 0, 0, 0.15);\n",
              "    filter: drop-shadow(0px 1px 2px rgba(0, 0, 0, 0.3));\n",
              "    fill: #FFFFFF;\n",
              "  }\n",
              "</style>\n",
              "\n",
              "    <script>\n",
              "      async function quickchart(key) {\n",
              "        const containerElement = document.querySelector('#' + key);\n",
              "        const charts = await google.colab.kernel.invokeFunction(\n",
              "            'suggestCharts', [key], {});\n",
              "      }\n",
              "    </script>\n",
              "\n",
              "      <script>\n",
              "\n",
              "function displayQuickchartButton(domScope) {\n",
              "  let quickchartButtonEl =\n",
              "    domScope.querySelector('#df-7d801ccc-6179-4786-979a-8023fcc85523 button.colab-df-quickchart');\n",
              "  quickchartButtonEl.style.display =\n",
              "    google.colab.kernel.accessAllowed ? 'block' : 'none';\n",
              "}\n",
              "\n",
              "        displayQuickchartButton(document);\n",
              "      </script>\n",
              "      <style>\n",
              "    .colab-df-container {\n",
              "      display:flex;\n",
              "      flex-wrap:wrap;\n",
              "      gap: 12px;\n",
              "    }\n",
              "\n",
              "    .colab-df-convert {\n",
              "      background-color: #E8F0FE;\n",
              "      border: none;\n",
              "      border-radius: 50%;\n",
              "      cursor: pointer;\n",
              "      display: none;\n",
              "      fill: #1967D2;\n",
              "      height: 32px;\n",
              "      padding: 0 0 0 0;\n",
              "      width: 32px;\n",
              "    }\n",
              "\n",
              "    .colab-df-convert:hover {\n",
              "      background-color: #E2EBFA;\n",
              "      box-shadow: 0px 1px 2px rgba(60, 64, 67, 0.3), 0px 1px 3px 1px rgba(60, 64, 67, 0.15);\n",
              "      fill: #174EA6;\n",
              "    }\n",
              "\n",
              "    [theme=dark] .colab-df-convert {\n",
              "      background-color: #3B4455;\n",
              "      fill: #D2E3FC;\n",
              "    }\n",
              "\n",
              "    [theme=dark] .colab-df-convert:hover {\n",
              "      background-color: #434B5C;\n",
              "      box-shadow: 0px 1px 3px 1px rgba(0, 0, 0, 0.15);\n",
              "      filter: drop-shadow(0px 1px 2px rgba(0, 0, 0, 0.3));\n",
              "      fill: #FFFFFF;\n",
              "    }\n",
              "  </style>\n",
              "\n",
              "      <script>\n",
              "        const buttonEl =\n",
              "          document.querySelector('#df-0825e6df-cf4a-481b-b305-6f141d0f5f3e button.colab-df-convert');\n",
              "        buttonEl.style.display =\n",
              "          google.colab.kernel.accessAllowed ? 'block' : 'none';\n",
              "\n",
              "        async function convertToInteractive(key) {\n",
              "          const element = document.querySelector('#df-0825e6df-cf4a-481b-b305-6f141d0f5f3e');\n",
              "          const dataTable =\n",
              "            await google.colab.kernel.invokeFunction('convertToInteractive',\n",
              "                                                     [key], {});\n",
              "          if (!dataTable) return;\n",
              "\n",
              "          const docLinkHtml = 'Like what you see? Visit the ' +\n",
              "            '<a target=\"_blank\" href=https://colab.research.google.com/notebooks/data_table.ipynb>data table notebook</a>'\n",
              "            + ' to learn more about interactive tables.';\n",
              "          element.innerHTML = '';\n",
              "          dataTable['output_type'] = 'display_data';\n",
              "          await google.colab.output.renderOutput(dataTable, element);\n",
              "          const docLink = document.createElement('div');\n",
              "          docLink.innerHTML = docLinkHtml;\n",
              "          element.appendChild(docLink);\n",
              "        }\n",
              "      </script>\n",
              "    </div>\n",
              "  </div>\n"
            ]
          },
          "metadata": {},
          "execution_count": 34
        }
      ]
    },
    {
      "cell_type": "markdown",
      "source": [
        "## **Colunas Persistidas**"
      ],
      "metadata": {
        "id": "JqXejczoZybS"
      }
    },
    {
      "cell_type": "markdown",
      "source": [
        "* coluna1"
      ],
      "metadata": {
        "id": "mNOCmwZecd8v"
      }
    },
    {
      "cell_type": "markdown",
      "source": [
        "## Copia de segurança do tratamento - Backup"
      ],
      "metadata": {
        "id": "59UEX6yQCrqX"
      }
    },
    {
      "cell_type": "code",
      "source": [
        "# Backup para analise\n",
        "df_tratado = df_analise.copy()"
      ],
      "metadata": {
        "id": "kPn9PJEFvtWW"
      },
      "execution_count": 35,
      "outputs": []
    },
    {
      "cell_type": "markdown",
      "source": [
        "## Load\n",
        "Depois que os dados são extraídos e transformados adequadamente, eles estarão prontos para as análise, mas antes disso eles precisam ser carregados em um local de armazenamento adequado. Podendo ser um banco de dados SQL ou NoSQL, um sistema de armazenamento em nuvem, e para o caso de disponibilizar o projeto publicamente é ideal que ele seja colocar em uma pasta de datasets, diferenciando o arquivo bruto e o tratado."
      ],
      "metadata": {
        "id": "0hT5rrbf2Xrw"
      }
    },
    {
      "cell_type": "code",
      "source": [
        "# Upando para o Google Cloud\n",
        "\n",
        "df_tratado.to_csv('gs://projeto-final-ad2-e8/dados/tratados/dataset_tratados_xlsx/2_1_cap_instalada_por_regiao_e_uf_tratado.xlsx', index=False)\n"
      ],
      "metadata": {
        "id": "ya7oNjhIlxeF"
      },
      "execution_count": 36,
      "outputs": []
    },
    {
      "cell_type": "code",
      "source": [
        "df_tratado.shape\n"
      ],
      "metadata": {
        "colab": {
          "base_uri": "https://localhost:8080/"
        },
        "id": "mdmgT-41-RZ8",
        "outputId": "bd6f59d4-3723-498e-965a-9f967b03e4b2"
      },
      "execution_count": 37,
      "outputs": [
        {
          "output_type": "execute_result",
          "data": {
            "text/plain": [
              "(560, 5)"
            ]
          },
          "metadata": {},
          "execution_count": 37
        }
      ]
    },
    {
      "cell_type": "code",
      "source": [
        "df_tratado.info()"
      ],
      "metadata": {
        "colab": {
          "base_uri": "https://localhost:8080/"
        },
        "id": "E6gkOBVj-2Bk",
        "outputId": "73e5a992-299f-4522-90d1-38127d472a28"
      },
      "execution_count": 38,
      "outputs": [
        {
          "output_type": "stream",
          "name": "stdout",
          "text": [
            "<class 'pandas.core.frame.DataFrame'>\n",
            "RangeIndex: 560 entries, 0 to 559\n",
            "Data columns (total 5 columns):\n",
            " #   Column              Non-Null Count  Dtype         \n",
            "---  ------              --------------  -----         \n",
            " 0   Grupo               560 non-null    object        \n",
            " 1   Macro_grupo         560 non-null    object        \n",
            " 2   Ano                 560 non-null    datetime64[ns]\n",
            " 3   Tipo_de_informacao  560 non-null    object        \n",
            " 4   Total               560 non-null    float64       \n",
            "dtypes: datetime64[ns](1), float64(1), object(3)\n",
            "memory usage: 22.0+ KB\n"
          ]
        }
      ]
    },
    {
      "cell_type": "markdown",
      "source": [
        "# EDA\n",
        "Análise exploratória de dados.\n",
        "- Descrição de dados: identificação dos tipos de variáveis, dimensões dos dados, valores extremos e estatísticas descritivas.\n",
        "- Visualização dos dados: criação de gráficos, tabelas e outros tipos de visualização para entender a distribuição e a relação entre as variáveis.\n",
        "- Identificação de padrões: identificação de padrões, tendências, correlações e outras relações entre as variáveis.\n",
        "- Testes estatísticos: aplicação de testes estatísticos para confirmar ou refutar hipóteses sobre os dados."
      ],
      "metadata": {
        "id": "vWZSnA7a323p"
      }
    },
    {
      "cell_type": "markdown",
      "source": [
        "## Install e Libs\n",
        "Instalações e bibliotecas necessárias para a análise de dados que não haviam sido importadas anteriormente."
      ],
      "metadata": {
        "id": "61BpULdxB4eG"
      }
    },
    {
      "cell_type": "code",
      "source": [],
      "metadata": {
        "id": "qdgH_yzGCDQv"
      },
      "execution_count": 38,
      "outputs": []
    },
    {
      "cell_type": "markdown",
      "source": [
        "## Preparação do Dados\n",
        "Novo processo de transformação de dados caso seja necessário fazer algo a mais para as análises a serem feitas."
      ],
      "metadata": {
        "id": "XFqxd5w9BVyu"
      }
    },
    {
      "cell_type": "markdown",
      "source": [
        "### **Estatisticas**"
      ],
      "metadata": {
        "id": "deA1beF7EVJa"
      }
    },
    {
      "cell_type": "code",
      "source": [
        "# Resumo de estatisticas descritivas\n",
        "df.describe().round(2)"
      ],
      "metadata": {
        "id": "xt3WC7BzNrvJ",
        "colab": {
          "base_uri": "https://localhost:8080/",
          "height": 0
        },
        "outputId": "172af69c-3f45-4872-8748-bb48b17eb563"
      },
      "execution_count": 39,
      "outputs": [
        {
          "output_type": "execute_result",
          "data": {
            "text/plain": [
              "           ano      total\n",
              "count   560.00     560.00\n",
              "mean   2017.50   27427.15\n",
              "std       2.87   83027.70\n",
              "min    2013.00      37.62\n",
              "25%    2015.00    2489.67\n",
              "50%    2017.50    8320.11\n",
              "75%    2020.00   20325.66\n",
              "max    2022.00  677436.87"
            ],
            "text/html": [
              "\n",
              "\n",
              "  <div id=\"df-9baf0e57-3215-4ef3-9a31-a7f76b17c4f5\">\n",
              "    <div class=\"colab-df-container\">\n",
              "      <div>\n",
              "<style scoped>\n",
              "    .dataframe tbody tr th:only-of-type {\n",
              "        vertical-align: middle;\n",
              "    }\n",
              "\n",
              "    .dataframe tbody tr th {\n",
              "        vertical-align: top;\n",
              "    }\n",
              "\n",
              "    .dataframe thead th {\n",
              "        text-align: right;\n",
              "    }\n",
              "</style>\n",
              "<table border=\"1\" class=\"dataframe\">\n",
              "  <thead>\n",
              "    <tr style=\"text-align: right;\">\n",
              "      <th></th>\n",
              "      <th>ano</th>\n",
              "      <th>total</th>\n",
              "    </tr>\n",
              "  </thead>\n",
              "  <tbody>\n",
              "    <tr>\n",
              "      <th>count</th>\n",
              "      <td>560.00</td>\n",
              "      <td>560.00</td>\n",
              "    </tr>\n",
              "    <tr>\n",
              "      <th>mean</th>\n",
              "      <td>2017.50</td>\n",
              "      <td>27427.15</td>\n",
              "    </tr>\n",
              "    <tr>\n",
              "      <th>std</th>\n",
              "      <td>2.87</td>\n",
              "      <td>83027.70</td>\n",
              "    </tr>\n",
              "    <tr>\n",
              "      <th>min</th>\n",
              "      <td>2013.00</td>\n",
              "      <td>37.62</td>\n",
              "    </tr>\n",
              "    <tr>\n",
              "      <th>25%</th>\n",
              "      <td>2015.00</td>\n",
              "      <td>2489.67</td>\n",
              "    </tr>\n",
              "    <tr>\n",
              "      <th>50%</th>\n",
              "      <td>2017.50</td>\n",
              "      <td>8320.11</td>\n",
              "    </tr>\n",
              "    <tr>\n",
              "      <th>75%</th>\n",
              "      <td>2020.00</td>\n",
              "      <td>20325.66</td>\n",
              "    </tr>\n",
              "    <tr>\n",
              "      <th>max</th>\n",
              "      <td>2022.00</td>\n",
              "      <td>677436.87</td>\n",
              "    </tr>\n",
              "  </tbody>\n",
              "</table>\n",
              "</div>\n",
              "      <button class=\"colab-df-convert\" onclick=\"convertToInteractive('df-9baf0e57-3215-4ef3-9a31-a7f76b17c4f5')\"\n",
              "              title=\"Convert this dataframe to an interactive table.\"\n",
              "              style=\"display:none;\">\n",
              "\n",
              "  <svg xmlns=\"http://www.w3.org/2000/svg\" height=\"24px\"viewBox=\"0 0 24 24\"\n",
              "       width=\"24px\">\n",
              "    <path d=\"M0 0h24v24H0V0z\" fill=\"none\"/>\n",
              "    <path d=\"M18.56 5.44l.94 2.06.94-2.06 2.06-.94-2.06-.94-.94-2.06-.94 2.06-2.06.94zm-11 1L8.5 8.5l.94-2.06 2.06-.94-2.06-.94L8.5 2.5l-.94 2.06-2.06.94zm10 10l.94 2.06.94-2.06 2.06-.94-2.06-.94-.94-2.06-.94 2.06-2.06.94z\"/><path d=\"M17.41 7.96l-1.37-1.37c-.4-.4-.92-.59-1.43-.59-.52 0-1.04.2-1.43.59L10.3 9.45l-7.72 7.72c-.78.78-.78 2.05 0 2.83L4 21.41c.39.39.9.59 1.41.59.51 0 1.02-.2 1.41-.59l7.78-7.78 2.81-2.81c.8-.78.8-2.07 0-2.86zM5.41 20L4 18.59l7.72-7.72 1.47 1.35L5.41 20z\"/>\n",
              "  </svg>\n",
              "      </button>\n",
              "\n",
              "\n",
              "\n",
              "    <div id=\"df-3060a282-83e2-4fe1-bd39-2a2d52433a1c\">\n",
              "      <button class=\"colab-df-quickchart\" onclick=\"quickchart('df-3060a282-83e2-4fe1-bd39-2a2d52433a1c')\"\n",
              "              title=\"Suggest charts.\"\n",
              "              style=\"display:none;\">\n",
              "\n",
              "<svg xmlns=\"http://www.w3.org/2000/svg\" height=\"24px\"viewBox=\"0 0 24 24\"\n",
              "     width=\"24px\">\n",
              "    <g>\n",
              "        <path d=\"M19 3H5c-1.1 0-2 .9-2 2v14c0 1.1.9 2 2 2h14c1.1 0 2-.9 2-2V5c0-1.1-.9-2-2-2zM9 17H7v-7h2v7zm4 0h-2V7h2v10zm4 0h-2v-4h2v4z\"/>\n",
              "    </g>\n",
              "</svg>\n",
              "      </button>\n",
              "    </div>\n",
              "\n",
              "<style>\n",
              "  .colab-df-quickchart {\n",
              "    background-color: #E8F0FE;\n",
              "    border: none;\n",
              "    border-radius: 50%;\n",
              "    cursor: pointer;\n",
              "    display: none;\n",
              "    fill: #1967D2;\n",
              "    height: 32px;\n",
              "    padding: 0 0 0 0;\n",
              "    width: 32px;\n",
              "  }\n",
              "\n",
              "  .colab-df-quickchart:hover {\n",
              "    background-color: #E2EBFA;\n",
              "    box-shadow: 0px 1px 2px rgba(60, 64, 67, 0.3), 0px 1px 3px 1px rgba(60, 64, 67, 0.15);\n",
              "    fill: #174EA6;\n",
              "  }\n",
              "\n",
              "  [theme=dark] .colab-df-quickchart {\n",
              "    background-color: #3B4455;\n",
              "    fill: #D2E3FC;\n",
              "  }\n",
              "\n",
              "  [theme=dark] .colab-df-quickchart:hover {\n",
              "    background-color: #434B5C;\n",
              "    box-shadow: 0px 1px 3px 1px rgba(0, 0, 0, 0.15);\n",
              "    filter: drop-shadow(0px 1px 2px rgba(0, 0, 0, 0.3));\n",
              "    fill: #FFFFFF;\n",
              "  }\n",
              "</style>\n",
              "\n",
              "    <script>\n",
              "      async function quickchart(key) {\n",
              "        const containerElement = document.querySelector('#' + key);\n",
              "        const charts = await google.colab.kernel.invokeFunction(\n",
              "            'suggestCharts', [key], {});\n",
              "      }\n",
              "    </script>\n",
              "\n",
              "      <script>\n",
              "\n",
              "function displayQuickchartButton(domScope) {\n",
              "  let quickchartButtonEl =\n",
              "    domScope.querySelector('#df-3060a282-83e2-4fe1-bd39-2a2d52433a1c button.colab-df-quickchart');\n",
              "  quickchartButtonEl.style.display =\n",
              "    google.colab.kernel.accessAllowed ? 'block' : 'none';\n",
              "}\n",
              "\n",
              "        displayQuickchartButton(document);\n",
              "      </script>\n",
              "      <style>\n",
              "    .colab-df-container {\n",
              "      display:flex;\n",
              "      flex-wrap:wrap;\n",
              "      gap: 12px;\n",
              "    }\n",
              "\n",
              "    .colab-df-convert {\n",
              "      background-color: #E8F0FE;\n",
              "      border: none;\n",
              "      border-radius: 50%;\n",
              "      cursor: pointer;\n",
              "      display: none;\n",
              "      fill: #1967D2;\n",
              "      height: 32px;\n",
              "      padding: 0 0 0 0;\n",
              "      width: 32px;\n",
              "    }\n",
              "\n",
              "    .colab-df-convert:hover {\n",
              "      background-color: #E2EBFA;\n",
              "      box-shadow: 0px 1px 2px rgba(60, 64, 67, 0.3), 0px 1px 3px 1px rgba(60, 64, 67, 0.15);\n",
              "      fill: #174EA6;\n",
              "    }\n",
              "\n",
              "    [theme=dark] .colab-df-convert {\n",
              "      background-color: #3B4455;\n",
              "      fill: #D2E3FC;\n",
              "    }\n",
              "\n",
              "    [theme=dark] .colab-df-convert:hover {\n",
              "      background-color: #434B5C;\n",
              "      box-shadow: 0px 1px 3px 1px rgba(0, 0, 0, 0.15);\n",
              "      filter: drop-shadow(0px 1px 2px rgba(0, 0, 0, 0.3));\n",
              "      fill: #FFFFFF;\n",
              "    }\n",
              "  </style>\n",
              "\n",
              "      <script>\n",
              "        const buttonEl =\n",
              "          document.querySelector('#df-9baf0e57-3215-4ef3-9a31-a7f76b17c4f5 button.colab-df-convert');\n",
              "        buttonEl.style.display =\n",
              "          google.colab.kernel.accessAllowed ? 'block' : 'none';\n",
              "\n",
              "        async function convertToInteractive(key) {\n",
              "          const element = document.querySelector('#df-9baf0e57-3215-4ef3-9a31-a7f76b17c4f5');\n",
              "          const dataTable =\n",
              "            await google.colab.kernel.invokeFunction('convertToInteractive',\n",
              "                                                     [key], {});\n",
              "          if (!dataTable) return;\n",
              "\n",
              "          const docLinkHtml = 'Like what you see? Visit the ' +\n",
              "            '<a target=\"_blank\" href=https://colab.research.google.com/notebooks/data_table.ipynb>data table notebook</a>'\n",
              "            + ' to learn more about interactive tables.';\n",
              "          element.innerHTML = '';\n",
              "          dataTable['output_type'] = 'display_data';\n",
              "          await google.colab.output.renderOutput(dataTable, element);\n",
              "          const docLink = document.createElement('div');\n",
              "          docLink.innerHTML = docLinkHtml;\n",
              "          element.appendChild(docLink);\n",
              "        }\n",
              "      </script>\n",
              "    </div>\n",
              "  </div>\n"
            ]
          },
          "metadata": {},
          "execution_count": 39
        }
      ]
    },
    {
      "cell_type": "code",
      "source": [
        "# Correlações de todas colunas quantitativas\n",
        "df.corr()"
      ],
      "metadata": {
        "id": "vIN71lGPNwzz",
        "colab": {
          "base_uri": "https://localhost:8080/",
          "height": 0
        },
        "outputId": "26c5b862-7943-43bf-a56b-c04f55d4900d"
      },
      "execution_count": 40,
      "outputs": [
        {
          "output_type": "execute_result",
          "data": {
            "text/plain": [
              "            ano     total\n",
              "ano    1.000000  0.021754\n",
              "total  0.021754  1.000000"
            ],
            "text/html": [
              "\n",
              "\n",
              "  <div id=\"df-f0c74701-7522-48ac-9dbb-9fa7cd719cd1\">\n",
              "    <div class=\"colab-df-container\">\n",
              "      <div>\n",
              "<style scoped>\n",
              "    .dataframe tbody tr th:only-of-type {\n",
              "        vertical-align: middle;\n",
              "    }\n",
              "\n",
              "    .dataframe tbody tr th {\n",
              "        vertical-align: top;\n",
              "    }\n",
              "\n",
              "    .dataframe thead th {\n",
              "        text-align: right;\n",
              "    }\n",
              "</style>\n",
              "<table border=\"1\" class=\"dataframe\">\n",
              "  <thead>\n",
              "    <tr style=\"text-align: right;\">\n",
              "      <th></th>\n",
              "      <th>ano</th>\n",
              "      <th>total</th>\n",
              "    </tr>\n",
              "  </thead>\n",
              "  <tbody>\n",
              "    <tr>\n",
              "      <th>ano</th>\n",
              "      <td>1.000000</td>\n",
              "      <td>0.021754</td>\n",
              "    </tr>\n",
              "    <tr>\n",
              "      <th>total</th>\n",
              "      <td>0.021754</td>\n",
              "      <td>1.000000</td>\n",
              "    </tr>\n",
              "  </tbody>\n",
              "</table>\n",
              "</div>\n",
              "      <button class=\"colab-df-convert\" onclick=\"convertToInteractive('df-f0c74701-7522-48ac-9dbb-9fa7cd719cd1')\"\n",
              "              title=\"Convert this dataframe to an interactive table.\"\n",
              "              style=\"display:none;\">\n",
              "\n",
              "  <svg xmlns=\"http://www.w3.org/2000/svg\" height=\"24px\"viewBox=\"0 0 24 24\"\n",
              "       width=\"24px\">\n",
              "    <path d=\"M0 0h24v24H0V0z\" fill=\"none\"/>\n",
              "    <path d=\"M18.56 5.44l.94 2.06.94-2.06 2.06-.94-2.06-.94-.94-2.06-.94 2.06-2.06.94zm-11 1L8.5 8.5l.94-2.06 2.06-.94-2.06-.94L8.5 2.5l-.94 2.06-2.06.94zm10 10l.94 2.06.94-2.06 2.06-.94-2.06-.94-.94-2.06-.94 2.06-2.06.94z\"/><path d=\"M17.41 7.96l-1.37-1.37c-.4-.4-.92-.59-1.43-.59-.52 0-1.04.2-1.43.59L10.3 9.45l-7.72 7.72c-.78.78-.78 2.05 0 2.83L4 21.41c.39.39.9.59 1.41.59.51 0 1.02-.2 1.41-.59l7.78-7.78 2.81-2.81c.8-.78.8-2.07 0-2.86zM5.41 20L4 18.59l7.72-7.72 1.47 1.35L5.41 20z\"/>\n",
              "  </svg>\n",
              "      </button>\n",
              "\n",
              "\n",
              "\n",
              "    <div id=\"df-5eca0772-b8ad-455f-9bdc-efb57f9c5c87\">\n",
              "      <button class=\"colab-df-quickchart\" onclick=\"quickchart('df-5eca0772-b8ad-455f-9bdc-efb57f9c5c87')\"\n",
              "              title=\"Suggest charts.\"\n",
              "              style=\"display:none;\">\n",
              "\n",
              "<svg xmlns=\"http://www.w3.org/2000/svg\" height=\"24px\"viewBox=\"0 0 24 24\"\n",
              "     width=\"24px\">\n",
              "    <g>\n",
              "        <path d=\"M19 3H5c-1.1 0-2 .9-2 2v14c0 1.1.9 2 2 2h14c1.1 0 2-.9 2-2V5c0-1.1-.9-2-2-2zM9 17H7v-7h2v7zm4 0h-2V7h2v10zm4 0h-2v-4h2v4z\"/>\n",
              "    </g>\n",
              "</svg>\n",
              "      </button>\n",
              "    </div>\n",
              "\n",
              "<style>\n",
              "  .colab-df-quickchart {\n",
              "    background-color: #E8F0FE;\n",
              "    border: none;\n",
              "    border-radius: 50%;\n",
              "    cursor: pointer;\n",
              "    display: none;\n",
              "    fill: #1967D2;\n",
              "    height: 32px;\n",
              "    padding: 0 0 0 0;\n",
              "    width: 32px;\n",
              "  }\n",
              "\n",
              "  .colab-df-quickchart:hover {\n",
              "    background-color: #E2EBFA;\n",
              "    box-shadow: 0px 1px 2px rgba(60, 64, 67, 0.3), 0px 1px 3px 1px rgba(60, 64, 67, 0.15);\n",
              "    fill: #174EA6;\n",
              "  }\n",
              "\n",
              "  [theme=dark] .colab-df-quickchart {\n",
              "    background-color: #3B4455;\n",
              "    fill: #D2E3FC;\n",
              "  }\n",
              "\n",
              "  [theme=dark] .colab-df-quickchart:hover {\n",
              "    background-color: #434B5C;\n",
              "    box-shadow: 0px 1px 3px 1px rgba(0, 0, 0, 0.15);\n",
              "    filter: drop-shadow(0px 1px 2px rgba(0, 0, 0, 0.3));\n",
              "    fill: #FFFFFF;\n",
              "  }\n",
              "</style>\n",
              "\n",
              "    <script>\n",
              "      async function quickchart(key) {\n",
              "        const containerElement = document.querySelector('#' + key);\n",
              "        const charts = await google.colab.kernel.invokeFunction(\n",
              "            'suggestCharts', [key], {});\n",
              "      }\n",
              "    </script>\n",
              "\n",
              "      <script>\n",
              "\n",
              "function displayQuickchartButton(domScope) {\n",
              "  let quickchartButtonEl =\n",
              "    domScope.querySelector('#df-5eca0772-b8ad-455f-9bdc-efb57f9c5c87 button.colab-df-quickchart');\n",
              "  quickchartButtonEl.style.display =\n",
              "    google.colab.kernel.accessAllowed ? 'block' : 'none';\n",
              "}\n",
              "\n",
              "        displayQuickchartButton(document);\n",
              "      </script>\n",
              "      <style>\n",
              "    .colab-df-container {\n",
              "      display:flex;\n",
              "      flex-wrap:wrap;\n",
              "      gap: 12px;\n",
              "    }\n",
              "\n",
              "    .colab-df-convert {\n",
              "      background-color: #E8F0FE;\n",
              "      border: none;\n",
              "      border-radius: 50%;\n",
              "      cursor: pointer;\n",
              "      display: none;\n",
              "      fill: #1967D2;\n",
              "      height: 32px;\n",
              "      padding: 0 0 0 0;\n",
              "      width: 32px;\n",
              "    }\n",
              "\n",
              "    .colab-df-convert:hover {\n",
              "      background-color: #E2EBFA;\n",
              "      box-shadow: 0px 1px 2px rgba(60, 64, 67, 0.3), 0px 1px 3px 1px rgba(60, 64, 67, 0.15);\n",
              "      fill: #174EA6;\n",
              "    }\n",
              "\n",
              "    [theme=dark] .colab-df-convert {\n",
              "      background-color: #3B4455;\n",
              "      fill: #D2E3FC;\n",
              "    }\n",
              "\n",
              "    [theme=dark] .colab-df-convert:hover {\n",
              "      background-color: #434B5C;\n",
              "      box-shadow: 0px 1px 3px 1px rgba(0, 0, 0, 0.15);\n",
              "      filter: drop-shadow(0px 1px 2px rgba(0, 0, 0, 0.3));\n",
              "      fill: #FFFFFF;\n",
              "    }\n",
              "  </style>\n",
              "\n",
              "      <script>\n",
              "        const buttonEl =\n",
              "          document.querySelector('#df-f0c74701-7522-48ac-9dbb-9fa7cd719cd1 button.colab-df-convert');\n",
              "        buttonEl.style.display =\n",
              "          google.colab.kernel.accessAllowed ? 'block' : 'none';\n",
              "\n",
              "        async function convertToInteractive(key) {\n",
              "          const element = document.querySelector('#df-f0c74701-7522-48ac-9dbb-9fa7cd719cd1');\n",
              "          const dataTable =\n",
              "            await google.colab.kernel.invokeFunction('convertToInteractive',\n",
              "                                                     [key], {});\n",
              "          if (!dataTable) return;\n",
              "\n",
              "          const docLinkHtml = 'Like what you see? Visit the ' +\n",
              "            '<a target=\"_blank\" href=https://colab.research.google.com/notebooks/data_table.ipynb>data table notebook</a>'\n",
              "            + ' to learn more about interactive tables.';\n",
              "          element.innerHTML = '';\n",
              "          dataTable['output_type'] = 'display_data';\n",
              "          await google.colab.output.renderOutput(dataTable, element);\n",
              "          const docLink = document.createElement('div');\n",
              "          docLink.innerHTML = docLinkHtml;\n",
              "          element.appendChild(docLink);\n",
              "        }\n",
              "      </script>\n",
              "    </div>\n",
              "  </div>\n"
            ]
          },
          "metadata": {},
          "execution_count": 40
        }
      ]
    },
    {
      "cell_type": "code",
      "source": [
        "'''\n",
        "def distfreq(dados, classes=None):\n",
        "    # Verifica se o número de classes foi fornecido como parâmetro, caso\n",
        "    # contrário, determina automaticamente. Se o número de dados for menor\n",
        "    # ou igual a 25, define 5 classes, caso contrário, a quantidade de classes\n",
        "    # será a raiz quadrada do número de de dados\n",
        "    if classes is None:\n",
        "        if len(dados) <= 25:\n",
        "            classes = 5\n",
        "        else:\n",
        "            classes = round(len(dados) ** 0.5 + 0.5)\n",
        "    else:\n",
        "        pass\n",
        "\n",
        "    # Ordena os dados em ordem crescente\n",
        "    dados = sorted(dados)\n",
        "    # Calcula a amplitude (diferença entre o maior e o menor valor)\n",
        "    amplitude = max(dados) - min(dados)\n",
        "    # Calcula o intervalo entre as classes\n",
        "    intervalo = amplitude / classes\n",
        "    # Cria uma lista para armazenar os limites dos intervalos\n",
        "    intervalos = [dados[0]]\n",
        "    for i in range(classes):\n",
        "        intervalos.append((intervalos[i] + intervalo))\n",
        "\n",
        "    # Imprime o cabeçalho da tabela\n",
        "    print(\"-\" * 100)\n",
        "    print(f'{\"Valores\":^19}|{\"Frequência\":^19}|{\"Freq. Acumulada\":^19}|'\n",
        "        + f'{\"Frequência %\":^19}|{\"Freq. Acumulada %\":^19}')\n",
        "    print(\"-\" * 100)\n",
        "\n",
        "    a = 0\n",
        "    b = 0\n",
        "\n",
        "    # Laço para calcular as frequências para cada classe\n",
        "    for i in range(classes):\n",
        "        a = 0\n",
        "        teste = f'{intervalos[i]:.2f} ---- {intervalos[i+1]:.2f}'\n",
        "\n",
        "        # Laço para contar quantos valores estão dentro do intervalo atual\n",
        "        for j in range(len(dados)):\n",
        "            if dados[j] < intervalos[i + 1] + 0.000001:\n",
        "                a = a + 1\n",
        "            else:\n",
        "                pass\n",
        "\n",
        "        # Imprime os valores da classe atual e suas frequências\n",
        "        print(f'{teste:^19}|{a - b:^19}|{a:^19}|{((a - b) / len(dados)):^19.2%}|{((a) / len(dados)):^19.2%}')\n",
        "\n",
        "        # Atualiza o valor de b para a próxima iteração\n",
        "        b = a\n",
        "\n",
        "        # Imprime uma linha separadora\n",
        "        print(\"-\" * 100)\n",
        "\n",
        "    # Imprime o final da tabela discriminando o total geral\n",
        "    print(f'{\"Total Geral\":^19}|{a:^19}|{\"\":^19}|{\"100,00%\":^19}|{\"\":^19}')\n",
        "    print(\"-\"*100)\n",
        "    return\n",
        "'''"
      ],
      "metadata": {
        "id": "WOlYb1l4CbPO",
        "colab": {
          "base_uri": "https://localhost:8080/",
          "height": 0
        },
        "outputId": "a18da65b-cd3b-4a17-ae85-ba1b0a266429"
      },
      "execution_count": 41,
      "outputs": [
        {
          "output_type": "execute_result",
          "data": {
            "text/plain": [
              "'\\ndef distfreq(dados, classes=None):\\n    # Verifica se o número de classes foi fornecido como parâmetro, caso\\n    # contrário, determina automaticamente. Se o número de dados for menor\\n    # ou igual a 25, define 5 classes, caso contrário, a quantidade de classes\\n    # será a raiz quadrada do número de de dados\\n    if classes is None:\\n        if len(dados) <= 25:\\n            classes = 5\\n        else:\\n            classes = round(len(dados) ** 0.5 + 0.5)\\n    else:\\n        pass\\n\\n    # Ordena os dados em ordem crescente\\n    dados = sorted(dados)\\n    # Calcula a amplitude (diferença entre o maior e o menor valor)\\n    amplitude = max(dados) - min(dados)\\n    # Calcula o intervalo entre as classes\\n    intervalo = amplitude / classes\\n    # Cria uma lista para armazenar os limites dos intervalos\\n    intervalos = [dados[0]]\\n    for i in range(classes):\\n        intervalos.append((intervalos[i] + intervalo))\\n\\n    # Imprime o cabeçalho da tabela\\n    print(\"-\" * 100)\\n    print(f\\'{\"Valores\":^19}|{\"Frequência\":^19}|{\"Freq. Acumulada\":^19}|\\'\\n        + f\\'{\"Frequência %\":^19}|{\"Freq. Acumulada %\":^19}\\')\\n    print(\"-\" * 100)\\n\\n    a = 0\\n    b = 0\\n\\n    # Laço para calcular as frequências para cada classe\\n    for i in range(classes):\\n        a = 0\\n        teste = f\\'{intervalos[i]:.2f} ---- {intervalos[i+1]:.2f}\\'\\n\\n        # Laço para contar quantos valores estão dentro do intervalo atual\\n        for j in range(len(dados)):\\n            if dados[j] < intervalos[i + 1] + 0.000001:\\n                a = a + 1\\n            else:\\n                pass\\n\\n        # Imprime os valores da classe atual e suas frequências\\n        print(f\\'{teste:^19}|{a - b:^19}|{a:^19}|{((a - b) / len(dados)):^19.2%}|{((a) / len(dados)):^19.2%}\\')\\n\\n        # Atualiza o valor de b para a próxima iteração\\n        b = a\\n\\n        # Imprime uma linha separadora\\n        print(\"-\" * 100)\\n\\n    # Imprime o final da tabela discriminando o total geral\\n    print(f\\'{\"Total Geral\":^19}|{a:^19}|{\"\":^19}|{\"100,00%\":^19}|{\"\":^19}\\')\\n    print(\"-\"*100)\\n    return\\n'"
            ],
            "application/vnd.google.colaboratory.intrinsic+json": {
              "type": "string"
            }
          },
          "metadata": {},
          "execution_count": 41
        }
      ]
    },
    {
      "cell_type": "code",
      "source": [
        "# distfreq(df.loc[df.cidade == 'Londres']['preco_total'],154)"
      ],
      "metadata": {
        "id": "qUOgo6LObFbj"
      },
      "execution_count": 42,
      "outputs": []
    },
    {
      "cell_type": "markdown",
      "source": [
        "### Filtros e agrupamentos\n",
        "Criar novas variáveis com base nos dados originais para permitir uma análise mais detalhada e avançada."
      ],
      "metadata": {
        "id": "-bEZz8EE2JGS"
      }
    },
    {
      "cell_type": "code",
      "source": [
        "# Filtros, agrupamentos"
      ],
      "metadata": {
        "id": "ZSGN7scp2XZ5"
      },
      "execution_count": 43,
      "outputs": []
    },
    {
      "cell_type": "code",
      "source": [
        "df_tratado.head()"
      ],
      "metadata": {
        "colab": {
          "base_uri": "https://localhost:8080/",
          "height": 206
        },
        "id": "vHE6SOZvisB2",
        "outputId": "77beb31f-41f4-47ab-d13c-ca060eaa1503"
      },
      "execution_count": 44,
      "outputs": [
        {
          "output_type": "execute_result",
          "data": {
            "text/plain": [
              "    Grupo Macro_grupo        Ano   Tipo_de_informacao          Total\n",
              "0  Brasil      Brasil 2013-01-01  Cap. Instalada (MW)  126743.303060\n",
              "1  Brasil      Brasil 2013-01-01        Geração (GWh)  570834.647328\n",
              "2  Brasil      Brasil 2014-01-01  Cap. Instalada (MW)  133912.521110\n",
              "3  Brasil      Brasil 2014-01-01        Geração (GWh)  590542.338656\n",
              "4  Brasil      Brasil 2015-01-01  Cap. Instalada (MW)  140857.748378"
            ],
            "text/html": [
              "\n",
              "\n",
              "  <div id=\"df-152192a3-a4f4-4452-ad84-c1c828ca3e7a\">\n",
              "    <div class=\"colab-df-container\">\n",
              "      <div>\n",
              "<style scoped>\n",
              "    .dataframe tbody tr th:only-of-type {\n",
              "        vertical-align: middle;\n",
              "    }\n",
              "\n",
              "    .dataframe tbody tr th {\n",
              "        vertical-align: top;\n",
              "    }\n",
              "\n",
              "    .dataframe thead th {\n",
              "        text-align: right;\n",
              "    }\n",
              "</style>\n",
              "<table border=\"1\" class=\"dataframe\">\n",
              "  <thead>\n",
              "    <tr style=\"text-align: right;\">\n",
              "      <th></th>\n",
              "      <th>Grupo</th>\n",
              "      <th>Macro_grupo</th>\n",
              "      <th>Ano</th>\n",
              "      <th>Tipo_de_informacao</th>\n",
              "      <th>Total</th>\n",
              "    </tr>\n",
              "  </thead>\n",
              "  <tbody>\n",
              "    <tr>\n",
              "      <th>0</th>\n",
              "      <td>Brasil</td>\n",
              "      <td>Brasil</td>\n",
              "      <td>2013-01-01</td>\n",
              "      <td>Cap. Instalada (MW)</td>\n",
              "      <td>126743.303060</td>\n",
              "    </tr>\n",
              "    <tr>\n",
              "      <th>1</th>\n",
              "      <td>Brasil</td>\n",
              "      <td>Brasil</td>\n",
              "      <td>2013-01-01</td>\n",
              "      <td>Geração (GWh)</td>\n",
              "      <td>570834.647328</td>\n",
              "    </tr>\n",
              "    <tr>\n",
              "      <th>2</th>\n",
              "      <td>Brasil</td>\n",
              "      <td>Brasil</td>\n",
              "      <td>2014-01-01</td>\n",
              "      <td>Cap. Instalada (MW)</td>\n",
              "      <td>133912.521110</td>\n",
              "    </tr>\n",
              "    <tr>\n",
              "      <th>3</th>\n",
              "      <td>Brasil</td>\n",
              "      <td>Brasil</td>\n",
              "      <td>2014-01-01</td>\n",
              "      <td>Geração (GWh)</td>\n",
              "      <td>590542.338656</td>\n",
              "    </tr>\n",
              "    <tr>\n",
              "      <th>4</th>\n",
              "      <td>Brasil</td>\n",
              "      <td>Brasil</td>\n",
              "      <td>2015-01-01</td>\n",
              "      <td>Cap. Instalada (MW)</td>\n",
              "      <td>140857.748378</td>\n",
              "    </tr>\n",
              "  </tbody>\n",
              "</table>\n",
              "</div>\n",
              "      <button class=\"colab-df-convert\" onclick=\"convertToInteractive('df-152192a3-a4f4-4452-ad84-c1c828ca3e7a')\"\n",
              "              title=\"Convert this dataframe to an interactive table.\"\n",
              "              style=\"display:none;\">\n",
              "\n",
              "  <svg xmlns=\"http://www.w3.org/2000/svg\" height=\"24px\"viewBox=\"0 0 24 24\"\n",
              "       width=\"24px\">\n",
              "    <path d=\"M0 0h24v24H0V0z\" fill=\"none\"/>\n",
              "    <path d=\"M18.56 5.44l.94 2.06.94-2.06 2.06-.94-2.06-.94-.94-2.06-.94 2.06-2.06.94zm-11 1L8.5 8.5l.94-2.06 2.06-.94-2.06-.94L8.5 2.5l-.94 2.06-2.06.94zm10 10l.94 2.06.94-2.06 2.06-.94-2.06-.94-.94-2.06-.94 2.06-2.06.94z\"/><path d=\"M17.41 7.96l-1.37-1.37c-.4-.4-.92-.59-1.43-.59-.52 0-1.04.2-1.43.59L10.3 9.45l-7.72 7.72c-.78.78-.78 2.05 0 2.83L4 21.41c.39.39.9.59 1.41.59.51 0 1.02-.2 1.41-.59l7.78-7.78 2.81-2.81c.8-.78.8-2.07 0-2.86zM5.41 20L4 18.59l7.72-7.72 1.47 1.35L5.41 20z\"/>\n",
              "  </svg>\n",
              "      </button>\n",
              "\n",
              "\n",
              "\n",
              "    <div id=\"df-b439a56c-8221-4778-a9b7-47236725dbc9\">\n",
              "      <button class=\"colab-df-quickchart\" onclick=\"quickchart('df-b439a56c-8221-4778-a9b7-47236725dbc9')\"\n",
              "              title=\"Suggest charts.\"\n",
              "              style=\"display:none;\">\n",
              "\n",
              "<svg xmlns=\"http://www.w3.org/2000/svg\" height=\"24px\"viewBox=\"0 0 24 24\"\n",
              "     width=\"24px\">\n",
              "    <g>\n",
              "        <path d=\"M19 3H5c-1.1 0-2 .9-2 2v14c0 1.1.9 2 2 2h14c1.1 0 2-.9 2-2V5c0-1.1-.9-2-2-2zM9 17H7v-7h2v7zm4 0h-2V7h2v10zm4 0h-2v-4h2v4z\"/>\n",
              "    </g>\n",
              "</svg>\n",
              "      </button>\n",
              "    </div>\n",
              "\n",
              "<style>\n",
              "  .colab-df-quickchart {\n",
              "    background-color: #E8F0FE;\n",
              "    border: none;\n",
              "    border-radius: 50%;\n",
              "    cursor: pointer;\n",
              "    display: none;\n",
              "    fill: #1967D2;\n",
              "    height: 32px;\n",
              "    padding: 0 0 0 0;\n",
              "    width: 32px;\n",
              "  }\n",
              "\n",
              "  .colab-df-quickchart:hover {\n",
              "    background-color: #E2EBFA;\n",
              "    box-shadow: 0px 1px 2px rgba(60, 64, 67, 0.3), 0px 1px 3px 1px rgba(60, 64, 67, 0.15);\n",
              "    fill: #174EA6;\n",
              "  }\n",
              "\n",
              "  [theme=dark] .colab-df-quickchart {\n",
              "    background-color: #3B4455;\n",
              "    fill: #D2E3FC;\n",
              "  }\n",
              "\n",
              "  [theme=dark] .colab-df-quickchart:hover {\n",
              "    background-color: #434B5C;\n",
              "    box-shadow: 0px 1px 3px 1px rgba(0, 0, 0, 0.15);\n",
              "    filter: drop-shadow(0px 1px 2px rgba(0, 0, 0, 0.3));\n",
              "    fill: #FFFFFF;\n",
              "  }\n",
              "</style>\n",
              "\n",
              "    <script>\n",
              "      async function quickchart(key) {\n",
              "        const containerElement = document.querySelector('#' + key);\n",
              "        const charts = await google.colab.kernel.invokeFunction(\n",
              "            'suggestCharts', [key], {});\n",
              "      }\n",
              "    </script>\n",
              "\n",
              "      <script>\n",
              "\n",
              "function displayQuickchartButton(domScope) {\n",
              "  let quickchartButtonEl =\n",
              "    domScope.querySelector('#df-b439a56c-8221-4778-a9b7-47236725dbc9 button.colab-df-quickchart');\n",
              "  quickchartButtonEl.style.display =\n",
              "    google.colab.kernel.accessAllowed ? 'block' : 'none';\n",
              "}\n",
              "\n",
              "        displayQuickchartButton(document);\n",
              "      </script>\n",
              "      <style>\n",
              "    .colab-df-container {\n",
              "      display:flex;\n",
              "      flex-wrap:wrap;\n",
              "      gap: 12px;\n",
              "    }\n",
              "\n",
              "    .colab-df-convert {\n",
              "      background-color: #E8F0FE;\n",
              "      border: none;\n",
              "      border-radius: 50%;\n",
              "      cursor: pointer;\n",
              "      display: none;\n",
              "      fill: #1967D2;\n",
              "      height: 32px;\n",
              "      padding: 0 0 0 0;\n",
              "      width: 32px;\n",
              "    }\n",
              "\n",
              "    .colab-df-convert:hover {\n",
              "      background-color: #E2EBFA;\n",
              "      box-shadow: 0px 1px 2px rgba(60, 64, 67, 0.3), 0px 1px 3px 1px rgba(60, 64, 67, 0.15);\n",
              "      fill: #174EA6;\n",
              "    }\n",
              "\n",
              "    [theme=dark] .colab-df-convert {\n",
              "      background-color: #3B4455;\n",
              "      fill: #D2E3FC;\n",
              "    }\n",
              "\n",
              "    [theme=dark] .colab-df-convert:hover {\n",
              "      background-color: #434B5C;\n",
              "      box-shadow: 0px 1px 3px 1px rgba(0, 0, 0, 0.15);\n",
              "      filter: drop-shadow(0px 1px 2px rgba(0, 0, 0, 0.3));\n",
              "      fill: #FFFFFF;\n",
              "    }\n",
              "  </style>\n",
              "\n",
              "      <script>\n",
              "        const buttonEl =\n",
              "          document.querySelector('#df-152192a3-a4f4-4452-ad84-c1c828ca3e7a button.colab-df-convert');\n",
              "        buttonEl.style.display =\n",
              "          google.colab.kernel.accessAllowed ? 'block' : 'none';\n",
              "\n",
              "        async function convertToInteractive(key) {\n",
              "          const element = document.querySelector('#df-152192a3-a4f4-4452-ad84-c1c828ca3e7a');\n",
              "          const dataTable =\n",
              "            await google.colab.kernel.invokeFunction('convertToInteractive',\n",
              "                                                     [key], {});\n",
              "          if (!dataTable) return;\n",
              "\n",
              "          const docLinkHtml = 'Like what you see? Visit the ' +\n",
              "            '<a target=\"_blank\" href=https://colab.research.google.com/notebooks/data_table.ipynb>data table notebook</a>'\n",
              "            + ' to learn more about interactive tables.';\n",
              "          element.innerHTML = '';\n",
              "          dataTable['output_type'] = 'display_data';\n",
              "          await google.colab.output.renderOutput(dataTable, element);\n",
              "          const docLink = document.createElement('div');\n",
              "          docLink.innerHTML = docLinkHtml;\n",
              "          element.appendChild(docLink);\n",
              "        }\n",
              "      </script>\n",
              "    </div>\n",
              "  </div>\n"
            ]
          },
          "metadata": {},
          "execution_count": 44
        }
      ]
    },
    {
      "cell_type": "markdown",
      "source": [
        "## Visualização"
      ],
      "metadata": {
        "id": "_IRmFDtibEJ5"
      }
    },
    {
      "cell_type": "code",
      "source": [
        "# Filtrando os dados para Brasil e Cap. Instalada (MW)\n",
        "brasil_capacidade = df_tratado[(df_tratado['Macro_grupo'] == 'Brasil') & (df_tratado['Tipo_de_informacao'] == 'Cap. Instalada (MW)')]\n",
        "# Criando gráfico de linha para Capacidade Instalada no Brasil ao longo dos anos\n",
        "plt.figure(figsize=(10, 6))\n",
        "plt.plot(brasil_capacidade['Ano'], brasil_capacidade['Total'], marker='o', label='Capacidade Instalada')\n",
        "plt.xlabel('Ano')\n",
        "plt.ylabel('Capacidade Instalada (MW)')\n",
        "plt.title('Capacidade Instalada no Brasil ao Longo dos Anos')\n",
        "plt.legend()\n",
        "plt.xticks(rotation=45)\n",
        "plt.tight_layout()\n",
        "\n",
        "# Exibindo gráfico\n",
        "plt.show()\n"
      ],
      "metadata": {
        "colab": {
          "base_uri": "https://localhost:8080/",
          "height": 607
        },
        "id": "9Bf3lZMudYDW",
        "outputId": "0452f437-88db-4c33-e1fb-d9535eddbf76"
      },
      "execution_count": 45,
      "outputs": [
        {
          "output_type": "display_data",
          "data": {
            "text/plain": [
              "<Figure size 1000x600 with 1 Axes>"
            ],
            "image/png": "[encoded data removed]"
          },
          "metadata": {}
        }
      ]
    },
    {
      "cell_type": "code",
      "source": [
        "# Filtrando os dados para Brasil e Geração (GWh)\n",
        "brasil_geracao = df_tratado[(df_tratado['Macro_grupo'] == 'Brasil') & (df_tratado['Tipo_de_informacao'] == 'Geração (GWh)')]\n",
        "# Criando gráfico de linha para Geração de Energia no Brasil ao longo dos anos\n",
        "plt.figure(figsize=(10, 6))\n",
        "plt.plot(brasil_geracao['Ano'], brasil_geracao['Total'], marker='o', color='orange', label='Geração de Energia')\n",
        "plt.xlabel('Ano')\n",
        "plt.ylabel('Geração de Energia (GWh)')\n",
        "plt.title('Geração de Energia no Brasil ao Longo dos Anos')\n",
        "plt.legend()\n",
        "plt.xticks(rotation=45)\n",
        "plt.tight_layout()\n",
        "# Exibindo gráfico\n",
        "plt.show()"
      ],
      "metadata": {
        "colab": {
          "base_uri": "https://localhost:8080/",
          "height": 607
        },
        "id": "Slh35wQ8etrC",
        "outputId": "314b0cb4-a9da-4c74-883f-3546efe78827"
      },
      "execution_count": 50,
      "outputs": [
        {
          "output_type": "display_data",
          "data": {
            "text/plain": [
              "<Figure size 1000x600 with 1 Axes>"
            ],
            "image/png": "[encoded data removed]"
          },
          "metadata": {}
        }
      ]
    },
    {
      "cell_type": "code",
      "source": [],
      "metadata": {
        "id": "TlCk4JFrp5v4"
      },
      "execution_count": 46,
      "outputs": []
    },
    {
      "cell_type": "code",
      "source": [
        "# Fazendo o drop das linhas onde 'Grupo' é igual a 'Brasil'\n",
        "#df_tratado = df_tratado.drop(df_tratado[df_tratado['Grupo'] == 'Brasil'].index)"
      ],
      "metadata": {
        "id": "qEU1AghOp5Ly"
      },
      "execution_count": 47,
      "outputs": []
    },
    {
      "cell_type": "code",
      "source": [
        "#capacidade_por_regiao_estado = capacidade_instalada.groupby(['Grupo' !='Brasil', 'Macro_grupo']).sum()\n",
        "brasil_geracao = df_tratado[(df_tratado['Grupo']) & (df_tratado['Tipo_de_informacao'] == 'Geração (GWh)')]\n",
        "#capacidade_por_regiao_estado = capacidade_instalada.query(\"Grupo = 'Brasil'\").groupby(['Grupo', 'Macro_grupo']).sum()\n",
        "\n",
        "# Reformatando o índice para facilitar a plotagem\n",
        "#capacidade_por_regiao_estado.reset_index(inplace=True)\n",
        "\n",
        "#Ordenando o DataFrame em ordem decrescente de capacidade instalada\n",
        "capacidade_por_regiao_estado = capacidade_por_regiao_estado.sort_values(by='Total', ascending=False)\n",
        "\n",
        "# Criando gráfico de barras para Capacidade Instalada por Região e Estado\n",
        "plt.figure(figsize=(12, 6))\n",
        "plt.bar(capacidade_por_regiao_estado['Macro_grupo'], capacidade_por_regiao_estado['Total'])\n",
        "plt.xlabel('Região')\n",
        "plt.ylabel('Capacidade Instalada (MW)')\n",
        "plt.title('Capacidade Instalada')\n",
        "plt.xticks(rotation=45, ha='right')\n",
        "plt.tight_layout()\n",
        "\n",
        "# Exibindo gráfico\n",
        "plt.show()"
      ],
      "metadata": {
        "colab": {
          "base_uri": "https://localhost:8080/",
          "height": 362
        },
        "id": "rKeUHDklt3ux",
        "outputId": "81652914-5c9b-4b94-97e3-69e45deb9306"
      },
      "execution_count": 51,
      "outputs": [
        {
          "output_type": "error",
          "ename": "TypeError",
          "evalue": "ignored",
          "traceback": [
            "\u001b[0;31m---------------------------------------------------------------------------\u001b[0m",
            "\u001b[0;31mTypeError\u001b[0m                                 Traceback (most recent call last)",
            "\u001b[0;32m/usr/local/lib/python3.10/dist-packages/pandas/core/ops/array_ops.py\u001b[0m in \u001b[0;36mna_logical_op\u001b[0;34m(x, y, op)\u001b[0m\n\u001b[1;32m    304\u001b[0m         \u001b[0;31m#  (xint or xbool) and (yint or bool)\u001b[0m\u001b[0;34m\u001b[0m\u001b[0;34m\u001b[0m\u001b[0m\n\u001b[0;32m--> 305\u001b[0;31m         \u001b[0mresult\u001b[0m \u001b[0;34m=\u001b[0m \u001b[0mop\u001b[0m\u001b[0;34m(\u001b[0m\u001b[0mx\u001b[0m\u001b[0;34m,\u001b[0m \u001b[0my\u001b[0m\u001b[0;34m)\u001b[0m\u001b[0;34m\u001b[0m\u001b[0;34m\u001b[0m\u001b[0m\n\u001b[0m\u001b[1;32m    306\u001b[0m     \u001b[0;32mexcept\u001b[0m \u001b[0mTypeError\u001b[0m\u001b[0;34m:\u001b[0m\u001b[0;34m\u001b[0m\u001b[0;34m\u001b[0m\u001b[0m\n",
            "\u001b[0;31mTypeError\u001b[0m: unsupported operand type(s) for &: 'str' and 'bool'",
            "\nDuring handling of the above exception, another exception occurred:\n",
            "\u001b[0;31mTypeError\u001b[0m                                 Traceback (most recent call last)",
            "\u001b[0;32m<ipython-input-51-367e6d66e015>\u001b[0m in \u001b[0;36m<cell line: 2>\u001b[0;34m()\u001b[0m\n\u001b[1;32m      1\u001b[0m \u001b[0;31m#capacidade_por_regiao_estado = capacidade_instalada.groupby(['Grupo' !='Brasil', 'Macro_grupo']).sum()\u001b[0m\u001b[0;34m\u001b[0m\u001b[0;34m\u001b[0m\u001b[0m\n\u001b[0;32m----> 2\u001b[0;31m \u001b[0mbrasil_geracao\u001b[0m \u001b[0;34m=\u001b[0m \u001b[0mdf_tratado\u001b[0m\u001b[0;34m[\u001b[0m\u001b[0;34m(\u001b[0m\u001b[0mdf_tratado\u001b[0m\u001b[0;34m[\u001b[0m\u001b[0;34m'Grupo'\u001b[0m\u001b[0;34m]\u001b[0m\u001b[0;34m)\u001b[0m \u001b[0;34m&\u001b[0m \u001b[0;34m(\u001b[0m\u001b[0mdf_tratado\u001b[0m\u001b[0;34m[\u001b[0m\u001b[0;34m'Tipo_de_informacao'\u001b[0m\u001b[0;34m]\u001b[0m \u001b[0;34m==\u001b[0m \u001b[0;34m'Geração (GWh)'\u001b[0m\u001b[0;34m)\u001b[0m\u001b[0;34m]\u001b[0m\u001b[0;34m\u001b[0m\u001b[0;34m\u001b[0m\u001b[0m\n\u001b[0m\u001b[1;32m      3\u001b[0m \u001b[0;31m#capacidade_por_regiao_estado = capacidade_instalada.query(\"Grupo = 'Brasil'\").groupby(['Grupo', 'Macro_grupo']).sum()\u001b[0m\u001b[0;34m\u001b[0m\u001b[0;34m\u001b[0m\u001b[0m\n\u001b[1;32m      4\u001b[0m \u001b[0;34m\u001b[0m\u001b[0m\n\u001b[1;32m      5\u001b[0m \u001b[0;31m# Reformatando o índice para facilitar a plotagem\u001b[0m\u001b[0;34m\u001b[0m\u001b[0;34m\u001b[0m\u001b[0m\n",
            "\u001b[0;32m/usr/local/lib/python3.10/dist-packages/pandas/core/ops/common.py\u001b[0m in \u001b[0;36mnew_method\u001b[0;34m(self, other)\u001b[0m\n\u001b[1;32m     70\u001b[0m         \u001b[0mother\u001b[0m \u001b[0;34m=\u001b[0m \u001b[0mitem_from_zerodim\u001b[0m\u001b[0;34m(\u001b[0m\u001b[0mother\u001b[0m\u001b[0;34m)\u001b[0m\u001b[0;34m\u001b[0m\u001b[0;34m\u001b[0m\u001b[0m\n\u001b[1;32m     71\u001b[0m \u001b[0;34m\u001b[0m\u001b[0m\n\u001b[0;32m---> 72\u001b[0;31m         \u001b[0;32mreturn\u001b[0m \u001b[0mmethod\u001b[0m\u001b[0;34m(\u001b[0m\u001b[0mself\u001b[0m\u001b[0;34m,\u001b[0m \u001b[0mother\u001b[0m\u001b[0;34m)\u001b[0m\u001b[0;34m\u001b[0m\u001b[0;34m\u001b[0m\u001b[0m\n\u001b[0m\u001b[1;32m     73\u001b[0m \u001b[0;34m\u001b[0m\u001b[0m\n\u001b[1;32m     74\u001b[0m     \u001b[0;32mreturn\u001b[0m \u001b[0mnew_method\u001b[0m\u001b[0;34m\u001b[0m\u001b[0;34m\u001b[0m\u001b[0m\n",
            "\u001b[0;32m/usr/local/lib/python3.10/dist-packages/pandas/core/arraylike.py\u001b[0m in \u001b[0;36m__and__\u001b[0;34m(self, other)\u001b[0m\n\u001b[1;32m     70\u001b[0m     \u001b[0;34m@\u001b[0m\u001b[0munpack_zerodim_and_defer\u001b[0m\u001b[0;34m(\u001b[0m\u001b[0;34m\"__and__\"\u001b[0m\u001b[0;34m)\u001b[0m\u001b[0;34m\u001b[0m\u001b[0;34m\u001b[0m\u001b[0m\n\u001b[1;32m     71\u001b[0m     \u001b[0;32mdef\u001b[0m \u001b[0m__and__\u001b[0m\u001b[0;34m(\u001b[0m\u001b[0mself\u001b[0m\u001b[0;34m,\u001b[0m \u001b[0mother\u001b[0m\u001b[0;34m)\u001b[0m\u001b[0;34m:\u001b[0m\u001b[0;34m\u001b[0m\u001b[0;34m\u001b[0m\u001b[0m\n\u001b[0;32m---> 72\u001b[0;31m         \u001b[0;32mreturn\u001b[0m \u001b[0mself\u001b[0m\u001b[0;34m.\u001b[0m\u001b[0m_logical_method\u001b[0m\u001b[0;34m(\u001b[0m\u001b[0mother\u001b[0m\u001b[0;34m,\u001b[0m \u001b[0moperator\u001b[0m\u001b[0;34m.\u001b[0m\u001b[0mand_\u001b[0m\u001b[0;34m)\u001b[0m\u001b[0;34m\u001b[0m\u001b[0;34m\u001b[0m\u001b[0m\n\u001b[0m\u001b[1;32m     73\u001b[0m \u001b[0;34m\u001b[0m\u001b[0m\n\u001b[1;32m     74\u001b[0m     \u001b[0;34m@\u001b[0m\u001b[0munpack_zerodim_and_defer\u001b[0m\u001b[0;34m(\u001b[0m\u001b[0;34m\"__rand__\"\u001b[0m\u001b[0;34m)\u001b[0m\u001b[0;34m\u001b[0m\u001b[0;34m\u001b[0m\u001b[0m\n",
            "\u001b[0;32m/usr/local/lib/python3.10/dist-packages/pandas/core/series.py\u001b[0m in \u001b[0;36m_logical_method\u001b[0;34m(self, other, op)\u001b[0m\n\u001b[1;32m   6252\u001b[0m         \u001b[0mrvalues\u001b[0m \u001b[0;34m=\u001b[0m \u001b[0mextract_array\u001b[0m\u001b[0;34m(\u001b[0m\u001b[0mother\u001b[0m\u001b[0;34m,\u001b[0m \u001b[0mextract_numpy\u001b[0m\u001b[0;34m=\u001b[0m\u001b[0;32mTrue\u001b[0m\u001b[0;34m,\u001b[0m \u001b[0mextract_range\u001b[0m\u001b[0;34m=\u001b[0m\u001b[0;32mTrue\u001b[0m\u001b[0;34m)\u001b[0m\u001b[0;34m\u001b[0m\u001b[0;34m\u001b[0m\u001b[0m\n\u001b[1;32m   6253\u001b[0m \u001b[0;34m\u001b[0m\u001b[0m\n\u001b[0;32m-> 6254\u001b[0;31m         \u001b[0mres_values\u001b[0m \u001b[0;34m=\u001b[0m \u001b[0mops\u001b[0m\u001b[0;34m.\u001b[0m\u001b[0mlogical_op\u001b[0m\u001b[0;34m(\u001b[0m\u001b[0mlvalues\u001b[0m\u001b[0;34m,\u001b[0m \u001b[0mrvalues\u001b[0m\u001b[0;34m,\u001b[0m \u001b[0mop\u001b[0m\u001b[0;34m)\u001b[0m\u001b[0;34m\u001b[0m\u001b[0;34m\u001b[0m\u001b[0m\n\u001b[0m\u001b[1;32m   6255\u001b[0m         \u001b[0;32mreturn\u001b[0m \u001b[0mself\u001b[0m\u001b[0;34m.\u001b[0m\u001b[0m_construct_result\u001b[0m\u001b[0;34m(\u001b[0m\u001b[0mres_values\u001b[0m\u001b[0;34m,\u001b[0m \u001b[0mname\u001b[0m\u001b[0;34m=\u001b[0m\u001b[0mres_name\u001b[0m\u001b[0;34m)\u001b[0m\u001b[0;34m\u001b[0m\u001b[0;34m\u001b[0m\u001b[0m\n\u001b[1;32m   6256\u001b[0m \u001b[0;34m\u001b[0m\u001b[0m\n",
            "\u001b[0;32m/usr/local/lib/python3.10/dist-packages/pandas/core/ops/array_ops.py\u001b[0m in \u001b[0;36mlogical_op\u001b[0;34m(left, right, op)\u001b[0m\n\u001b[1;32m    393\u001b[0m         \u001b[0mfiller\u001b[0m \u001b[0;34m=\u001b[0m \u001b[0mfill_int\u001b[0m \u001b[0;32mif\u001b[0m \u001b[0mis_self_int_dtype\u001b[0m \u001b[0;32mand\u001b[0m \u001b[0mis_other_int_dtype\u001b[0m \u001b[0;32melse\u001b[0m \u001b[0mfill_bool\u001b[0m\u001b[0;34m\u001b[0m\u001b[0;34m\u001b[0m\u001b[0m\n\u001b[1;32m    394\u001b[0m \u001b[0;34m\u001b[0m\u001b[0m\n\u001b[0;32m--> 395\u001b[0;31m         \u001b[0mres_values\u001b[0m \u001b[0;34m=\u001b[0m \u001b[0mna_logical_op\u001b[0m\u001b[0;34m(\u001b[0m\u001b[0mlvalues\u001b[0m\u001b[0;34m,\u001b[0m \u001b[0mrvalues\u001b[0m\u001b[0;34m,\u001b[0m \u001b[0mop\u001b[0m\u001b[0;34m)\u001b[0m\u001b[0;34m\u001b[0m\u001b[0;34m\u001b[0m\u001b[0m\n\u001b[0m\u001b[1;32m    396\u001b[0m         \u001b[0;31m# error: Cannot call function of unknown type\u001b[0m\u001b[0;34m\u001b[0m\u001b[0;34m\u001b[0m\u001b[0m\n\u001b[1;32m    397\u001b[0m         \u001b[0mres_values\u001b[0m \u001b[0;34m=\u001b[0m \u001b[0mfiller\u001b[0m\u001b[0;34m(\u001b[0m\u001b[0mres_values\u001b[0m\u001b[0;34m)\u001b[0m  \u001b[0;31m# type: ignore[operator]\u001b[0m\u001b[0;34m\u001b[0m\u001b[0;34m\u001b[0m\u001b[0m\n",
            "\u001b[0;32m/usr/local/lib/python3.10/dist-packages/pandas/core/ops/array_ops.py\u001b[0m in \u001b[0;36mna_logical_op\u001b[0;34m(x, y, op)\u001b[0m\n\u001b[1;32m    310\u001b[0m             \u001b[0mx\u001b[0m \u001b[0;34m=\u001b[0m \u001b[0mensure_object\u001b[0m\u001b[0;34m(\u001b[0m\u001b[0mx\u001b[0m\u001b[0;34m)\u001b[0m\u001b[0;34m\u001b[0m\u001b[0;34m\u001b[0m\u001b[0m\n\u001b[1;32m    311\u001b[0m             \u001b[0my\u001b[0m \u001b[0;34m=\u001b[0m \u001b[0mensure_object\u001b[0m\u001b[0;34m(\u001b[0m\u001b[0my\u001b[0m\u001b[0;34m)\u001b[0m\u001b[0;34m\u001b[0m\u001b[0;34m\u001b[0m\u001b[0m\n\u001b[0;32m--> 312\u001b[0;31m             \u001b[0mresult\u001b[0m \u001b[0;34m=\u001b[0m \u001b[0mlibops\u001b[0m\u001b[0;34m.\u001b[0m\u001b[0mvec_binop\u001b[0m\u001b[0;34m(\u001b[0m\u001b[0mx\u001b[0m\u001b[0;34m.\u001b[0m\u001b[0mravel\u001b[0m\u001b[0;34m(\u001b[0m\u001b[0;34m)\u001b[0m\u001b[0;34m,\u001b[0m \u001b[0my\u001b[0m\u001b[0;34m.\u001b[0m\u001b[0mravel\u001b[0m\u001b[0;34m(\u001b[0m\u001b[0;34m)\u001b[0m\u001b[0;34m,\u001b[0m \u001b[0mop\u001b[0m\u001b[0;34m)\u001b[0m\u001b[0;34m\u001b[0m\u001b[0;34m\u001b[0m\u001b[0m\n\u001b[0m\u001b[1;32m    313\u001b[0m         \u001b[0;32melse\u001b[0m\u001b[0;34m:\u001b[0m\u001b[0;34m\u001b[0m\u001b[0;34m\u001b[0m\u001b[0m\n\u001b[1;32m    314\u001b[0m             \u001b[0;31m# let null fall thru\u001b[0m\u001b[0;34m\u001b[0m\u001b[0;34m\u001b[0m\u001b[0m\n",
            "\u001b[0;32m/usr/local/lib/python3.10/dist-packages/pandas/_libs/ops.pyx\u001b[0m in \u001b[0;36mpandas._libs.ops.vec_binop\u001b[0;34m()\u001b[0m\n",
            "\u001b[0;32m/usr/local/lib/python3.10/dist-packages/pandas/_libs/ops.pyx\u001b[0m in \u001b[0;36mpandas._libs.ops.vec_binop\u001b[0;34m()\u001b[0m\n",
            "\u001b[0;31mTypeError\u001b[0m: unsupported operand type(s) for &: 'str' and 'bool'"
          ]
        }
      ]
    },
    {
      "cell_type": "code",
      "source": [
        "# Agrupando por região e estado e somando a capacidade instalada\n",
        "capacidade_por_regiao_estado = capacidade_instalada.groupby(['Grupo', 'Macro_grupo']).sum()\n",
        "\n",
        "# Reformatando o índice para facilitar a plotagem\n",
        "capacidade_por_regiao_estado.reset_index(inplace=True)\n",
        "\n",
        "# Ordenando o DataFrame em ordem decrescente de capacidade instalada\n",
        "capacidade_por_regiao_estado = capacidade_por_regiao_estado.sort_values(by='Total', ascending=False)\n",
        "\n",
        "# Criando gráfico de barras para Capacidade Instalada por Região e Estado\n",
        "plt.figure(figsize=(12, 6))\n",
        "#plt.bar(capacidade_por_regiao_estado[\"Grupo != 'Brasil'\"], capacidade_por_regiao_estado['Total'])\n",
        "plt.bar(capacidade_por_regiao_estado[capacidade_por_regiao_estado['Grupo'] != 'Brasil']['Grupo'], capacidade_por_regiao_estado[capacidade_por_regiao_estado['Grupo'] != 'Brasil']['Total'])\n",
        "plt.xlabel('Região e Estado')\n",
        "plt.ylabel('Capacidade Instalada (MW)')\n",
        "plt.title('Capacidade Instalada por Estado')\n",
        "plt.xticks(rotation=45, ha='right')\n",
        "plt.tight_layout()\n",
        "\n",
        "# Exibindo gráfico\n",
        "plt.show()"
      ],
      "metadata": {
        "id": "GABFGFX3f-mW"
      },
      "execution_count": null,
      "outputs": []
    },
    {
      "cell_type": "code",
      "source": [
        "# Criando gráfico de barras horizontais para Geração de Energia por Região e Estado\n",
        "plt.figure(figsize=(10, 6))\n",
        "plt.barh(geracao_energia['Grupo'], geracao_energia['Total'])\n",
        "plt.xlabel('Geração de Energia (GWh)')\n",
        "plt.ylabel('Região e Estado')\n",
        "plt.title('Geração de Energia por Região e Estado')\n",
        "plt.tight_layout()\n",
        "\n",
        "# Exibindo gráfico\n",
        "plt.show()"
      ],
      "metadata": {
        "colab": {
          "base_uri": "https://localhost:8080/",
          "height": 264
        },
        "id": "nGyU_3qn4v2c",
        "outputId": "e3efd7bf-caa5-403e-f339-48972692c799"
      },
      "execution_count": 52,
      "outputs": [
        {
          "output_type": "error",
          "ename": "NameError",
          "evalue": "ignored",
          "traceback": [
            "\u001b[0;31m---------------------------------------------------------------------------\u001b[0m",
            "\u001b[0;31mNameError\u001b[0m                                 Traceback (most recent call last)",
            "\u001b[0;32m<ipython-input-52-db18ca358ae9>\u001b[0m in \u001b[0;36m<cell line: 3>\u001b[0;34m()\u001b[0m\n\u001b[1;32m      1\u001b[0m \u001b[0;31m# Criando gráfico de barras horizontais para Geração de Energia por Região e Estado\u001b[0m\u001b[0;34m\u001b[0m\u001b[0;34m\u001b[0m\u001b[0m\n\u001b[1;32m      2\u001b[0m \u001b[0mplt\u001b[0m\u001b[0;34m.\u001b[0m\u001b[0mfigure\u001b[0m\u001b[0;34m(\u001b[0m\u001b[0mfigsize\u001b[0m\u001b[0;34m=\u001b[0m\u001b[0;34m(\u001b[0m\u001b[0;36m10\u001b[0m\u001b[0;34m,\u001b[0m \u001b[0;36m6\u001b[0m\u001b[0;34m)\u001b[0m\u001b[0;34m)\u001b[0m\u001b[0;34m\u001b[0m\u001b[0;34m\u001b[0m\u001b[0m\n\u001b[0;32m----> 3\u001b[0;31m \u001b[0mplt\u001b[0m\u001b[0;34m.\u001b[0m\u001b[0mbarh\u001b[0m\u001b[0;34m(\u001b[0m\u001b[0mgeracao_energia\u001b[0m\u001b[0;34m[\u001b[0m\u001b[0;34m'Grupo'\u001b[0m\u001b[0;34m]\u001b[0m\u001b[0;34m,\u001b[0m \u001b[0mgeracao_energia\u001b[0m\u001b[0;34m[\u001b[0m\u001b[0;34m'Total'\u001b[0m\u001b[0;34m]\u001b[0m\u001b[0;34m)\u001b[0m\u001b[0;34m\u001b[0m\u001b[0;34m\u001b[0m\u001b[0m\n\u001b[0m\u001b[1;32m      4\u001b[0m \u001b[0mplt\u001b[0m\u001b[0;34m.\u001b[0m\u001b[0mxlabel\u001b[0m\u001b[0;34m(\u001b[0m\u001b[0;34m'Geração de Energia (GWh)'\u001b[0m\u001b[0;34m)\u001b[0m\u001b[0;34m\u001b[0m\u001b[0;34m\u001b[0m\u001b[0m\n\u001b[1;32m      5\u001b[0m \u001b[0mplt\u001b[0m\u001b[0;34m.\u001b[0m\u001b[0mylabel\u001b[0m\u001b[0;34m(\u001b[0m\u001b[0;34m'Região e Estado'\u001b[0m\u001b[0;34m)\u001b[0m\u001b[0;34m\u001b[0m\u001b[0;34m\u001b[0m\u001b[0m\n",
            "\u001b[0;31mNameError\u001b[0m: name 'geracao_energia' is not defined"
          ]
        },
        {
          "output_type": "display_data",
          "data": {
            "text/plain": [
              "<Figure size 1000x600 with 0 Axes>"
            ]
          },
          "metadata": {}
        }
      ]
    },
    {
      "cell_type": "markdown",
      "source": [
        "### Análise Descritiva\n",
        "- Estatísticas descritivas do conjunto de dados;\n",
        "- Distribuição das variáveis numéricas e categóricas;\n",
        "- Identificação de outliers e tratamento, se necessário"
      ],
      "metadata": {
        "id": "APBO1npC5Z0A"
      }
    },
    {
      "cell_type": "code",
      "source": [],
      "metadata": {
        "id": "7ekIeOw65qzv"
      },
      "execution_count": null,
      "outputs": []
    },
    {
      "cell_type": "markdown",
      "source": [
        "### Análise de Correlação\n",
        "- Identificação de correlação entre as variáveis;\n",
        "- Verificação de multicolinearidade;\n",
        "- Visualização de gráficos de correlação, como heatmap e pairplot"
      ],
      "metadata": {
        "id": "2C84FQSL5rKH"
      }
    },
    {
      "cell_type": "code",
      "source": [],
      "metadata": {
        "id": "pkSinflI516n"
      },
      "execution_count": null,
      "outputs": []
    },
    {
      "cell_type": "markdown",
      "source": [
        "### Análise de Grupos\n",
        "- Identificação de grupos no conjunto de dados;\n",
        "- Visualização de gráficos de dispersão e boxplot para cada grupo"
      ],
      "metadata": {
        "id": "V8o30jvA52NX"
      }
    },
    {
      "cell_type": "code",
      "source": [],
      "metadata": {
        "id": "8VQkHUhZ59Nn"
      },
      "execution_count": null,
      "outputs": []
    },
    {
      "cell_type": "markdown",
      "source": [
        "### Análise Temporal\n",
        "- Verificação de tendências temporais;\n",
        "- Visualização de gráficos de linha, barras e scatterplot para cada período de tempo\n"
      ],
      "metadata": {
        "id": "3yU0J9uX59wv"
      }
    },
    {
      "cell_type": "code",
      "source": [],
      "metadata": {
        "id": "gAJd8xn_6Emp"
      },
      "execution_count": null,
      "outputs": []
    },
    {
      "cell_type": "markdown",
      "source": [
        "### Análise Geoespacial (se aplicável)\n",
        "- Verificação de padrões geoespaciais;\n",
        "- Visualização de mapas e gráficos de pontos para cada localização"
      ],
      "metadata": {
        "id": "L80z5OfJ6E8Y"
      }
    },
    {
      "cell_type": "code",
      "source": [],
      "metadata": {
        "id": "qv_M2VdPCgEV"
      },
      "execution_count": null,
      "outputs": []
    },
    {
      "cell_type": "markdown",
      "source": [
        "## Conclusão da EDA\n",
        "Resumo das principais conclusões e insights obtidos a partir da análise exploratória, sugestões para próximos passos da análise ou possíveis ações a serem tomadas."
      ],
      "metadata": {
        "id": "mGQ05qUq6O-Q"
      }
    },
    {
      "cell_type": "code",
      "source": [],
      "metadata": {
        "id": "BtkBYIPIbS0s"
      },
      "execution_count": null,
      "outputs": []
    }
  ]
}